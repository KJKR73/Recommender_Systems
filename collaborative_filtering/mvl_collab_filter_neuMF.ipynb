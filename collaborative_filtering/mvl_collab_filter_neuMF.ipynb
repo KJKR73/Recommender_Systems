{
 "cells": [
  {
   "cell_type": "code",
   "execution_count": 1,
   "id": "closing-affair",
   "metadata": {
    "_cell_guid": "b1076dfc-b9ad-4769-8c92-a6c4dae69d19",
    "_uuid": "8f2839f25d086af736a60e9eeb907d3b93b6e0e5",
    "execution": {
     "iopub.execute_input": "2021-05-08T11:47:48.351293Z",
     "iopub.status.busy": "2021-05-08T11:47:48.350581Z",
     "iopub.status.idle": "2021-05-08T11:47:53.513765Z",
     "shell.execute_reply": "2021-05-08T11:47:53.512838Z"
    },
    "papermill": {
     "duration": 5.188228,
     "end_time": "2021-05-08T11:47:53.513922",
     "exception": false,
     "start_time": "2021-05-08T11:47:48.325694",
     "status": "completed"
    },
    "tags": []
   },
   "outputs": [],
   "source": [
    "import gc\n",
    "import string\n",
    "import numpy as np\n",
    "import pandas as pd\n",
    "from collections import defaultdict\n",
    "\n",
    "from sklearn.feature_extraction.text import TfidfVectorizer\n",
    "from sklearn.model_selection import StratifiedKFold\n",
    "from sklearn.metrics.pairwise import cosine_similarity, linear_kernel\n",
    "from sklearn.metrics import jaccard_score\n",
    "import matplotlib.pyplot as plt\n",
    "import seaborn as sns \n",
    "\n",
    "from tqdm.notebook import tqdm\n",
    "import tensorflow as tf\n",
    "import keras"
   ]
  },
  {
   "cell_type": "markdown",
   "id": "informal-suffering",
   "metadata": {
    "papermill": {
     "duration": 0.012876,
     "end_time": "2021-05-08T11:47:53.540362",
     "exception": false,
     "start_time": "2021-05-08T11:47:53.527486",
     "status": "completed"
    },
    "tags": []
   },
   "source": [
    "# Data Loading and Preprocessing"
   ]
  },
  {
   "cell_type": "code",
   "execution_count": 2,
   "id": "subject-addiction",
   "metadata": {
    "execution": {
     "iopub.execute_input": "2021-05-08T11:47:53.573761Z",
     "iopub.status.busy": "2021-05-08T11:47:53.573174Z",
     "iopub.status.idle": "2021-05-08T11:47:54.125282Z",
     "shell.execute_reply": "2021-05-08T11:47:54.125659Z"
    },
    "papermill": {
     "duration": 0.572728,
     "end_time": "2021-05-08T11:47:54.125805",
     "exception": false,
     "start_time": "2021-05-08T11:47:53.553077",
     "status": "completed"
    },
    "tags": []
   },
   "outputs": [
    {
     "data": {
      "text/html": [
       "<div>\n",
       "<style scoped>\n",
       "    .dataframe tbody tr th:only-of-type {\n",
       "        vertical-align: middle;\n",
       "    }\n",
       "\n",
       "    .dataframe tbody tr th {\n",
       "        vertical-align: top;\n",
       "    }\n",
       "\n",
       "    .dataframe thead th {\n",
       "        text-align: right;\n",
       "    }\n",
       "</style>\n",
       "<table border=\"1\" class=\"dataframe\">\n",
       "  <thead>\n",
       "    <tr style=\"text-align: right;\">\n",
       "      <th></th>\n",
       "      <th>user_id</th>\n",
       "      <th>item_id</th>\n",
       "      <th>rating</th>\n",
       "      <th>timestamp</th>\n",
       "      <th>age</th>\n",
       "      <th>gender</th>\n",
       "      <th>occupation</th>\n",
       "      <th>zip_code</th>\n",
       "      <th>movie_id</th>\n",
       "      <th>movie_title</th>\n",
       "      <th>...</th>\n",
       "      <th>fantasy</th>\n",
       "      <th>file_noir</th>\n",
       "      <th>horror</th>\n",
       "      <th>musical</th>\n",
       "      <th>mystery</th>\n",
       "      <th>romance</th>\n",
       "      <th>sci_fi</th>\n",
       "      <th>thriller</th>\n",
       "      <th>war</th>\n",
       "      <th>western</th>\n",
       "    </tr>\n",
       "  </thead>\n",
       "  <tbody>\n",
       "    <tr>\n",
       "      <th>0</th>\n",
       "      <td>196</td>\n",
       "      <td>242</td>\n",
       "      <td>3</td>\n",
       "      <td>881250949</td>\n",
       "      <td>49</td>\n",
       "      <td>M</td>\n",
       "      <td>writer</td>\n",
       "      <td>55105</td>\n",
       "      <td>242</td>\n",
       "      <td>Kolya</td>\n",
       "      <td>...</td>\n",
       "      <td>0</td>\n",
       "      <td>0</td>\n",
       "      <td>0</td>\n",
       "      <td>0</td>\n",
       "      <td>0</td>\n",
       "      <td>0</td>\n",
       "      <td>0</td>\n",
       "      <td>0</td>\n",
       "      <td>0</td>\n",
       "      <td>0</td>\n",
       "    </tr>\n",
       "    <tr>\n",
       "      <th>1</th>\n",
       "      <td>186</td>\n",
       "      <td>302</td>\n",
       "      <td>3</td>\n",
       "      <td>891717742</td>\n",
       "      <td>39</td>\n",
       "      <td>F</td>\n",
       "      <td>executive</td>\n",
       "      <td>00000</td>\n",
       "      <td>302</td>\n",
       "      <td>L.A. Confidential</td>\n",
       "      <td>...</td>\n",
       "      <td>0</td>\n",
       "      <td>1</td>\n",
       "      <td>0</td>\n",
       "      <td>0</td>\n",
       "      <td>1</td>\n",
       "      <td>0</td>\n",
       "      <td>0</td>\n",
       "      <td>1</td>\n",
       "      <td>0</td>\n",
       "      <td>0</td>\n",
       "    </tr>\n",
       "  </tbody>\n",
       "</table>\n",
       "<p>2 rows × 32 columns</p>\n",
       "</div>"
      ],
      "text/plain": [
       "   user_id  item_id  rating  timestamp  age gender occupation zip_code  \\\n",
       "0      196      242       3  881250949   49      M     writer    55105   \n",
       "1      186      302       3  891717742   39      F  executive    00000   \n",
       "\n",
       "   movie_id         movie_title  ... fantasy file_noir horror  musical  \\\n",
       "0       242              Kolya   ...       0         0      0        0   \n",
       "1       302  L.A. Confidential   ...       0         1      0        0   \n",
       "\n",
       "   mystery  romance  sci_fi  thriller  war  western  \n",
       "0        0        0       0         0    0        0  \n",
       "1        1        0       0         1    0        0  \n",
       "\n",
       "[2 rows x 32 columns]"
      ]
     },
     "execution_count": 2,
     "metadata": {},
     "output_type": "execute_result"
    }
   ],
   "source": [
    "master_df = pd.read_csv(\"../input/movie-lens-preprocessed-data/movie_lens_master.csv\", low_memory=False)\n",
    "master_df.head(2)"
   ]
  },
  {
   "cell_type": "code",
   "execution_count": 3,
   "id": "coral-lafayette",
   "metadata": {
    "execution": {
     "iopub.execute_input": "2021-05-08T11:47:54.157893Z",
     "iopub.status.busy": "2021-05-08T11:47:54.157396Z",
     "iopub.status.idle": "2021-05-08T11:48:04.034122Z",
     "shell.execute_reply": "2021-05-08T11:48:04.033320Z"
    },
    "papermill": {
     "duration": 9.894804,
     "end_time": "2021-05-08T11:48:04.034290",
     "exception": false,
     "start_time": "2021-05-08T11:47:54.139486",
     "status": "completed"
    },
    "tags": []
   },
   "outputs": [
    {
     "data": {
      "application/vnd.jupyter.widget-view+json": {
       "model_id": "0f946e6d8a754eaba7de20a3c5ff5994",
       "version_major": 2,
       "version_minor": 0
      },
      "text/plain": [
       "0it [00:00, ?it/s]"
      ]
     },
     "metadata": {},
     "output_type": "display_data"
    }
   ],
   "source": [
    "def get_embeddings():\n",
    "    # Fetch the glove embedding dictionary\n",
    "    embedding_dict = {}\n",
    "    with open(\"../input/glove6b/glove.6B.50d.txt\", \"r\", encoding=\"utf8\") as f:\n",
    "        for line in tqdm(f):\n",
    "            placeholder = line.split()\n",
    "            word = placeholder[0]\n",
    "            values = np.array(placeholder[1:], dtype=np.float32)\n",
    "            embedding_dict[word] = values\n",
    "    \n",
    "    # Return the embedding dict\n",
    "    return embedding_dict\n",
    "\n",
    "glove_50_embeds = get_embeddings()"
   ]
  },
  {
   "cell_type": "code",
   "execution_count": 4,
   "id": "becoming-dutch",
   "metadata": {
    "execution": {
     "iopub.execute_input": "2021-05-08T11:48:04.075439Z",
     "iopub.status.busy": "2021-05-08T11:48:04.068977Z",
     "iopub.status.idle": "2021-05-08T11:48:04.502882Z",
     "shell.execute_reply": "2021-05-08T11:48:04.501892Z"
    },
    "papermill": {
     "duration": 0.45468,
     "end_time": "2021-05-08T11:48:04.503024",
     "exception": false,
     "start_time": "2021-05-08T11:48:04.048344",
     "status": "completed"
    },
    "tags": []
   },
   "outputs": [],
   "source": [
    "def clean_text(text_input):\n",
    "    \"\"\"\n",
    "    Text Cleaning Function\n",
    "    \"\"\"\n",
    "    # strip and lowercase\n",
    "    text_input = text_input.strip()\n",
    "    text_input = text_input.lower()\n",
    "    \n",
    "    # split the text\n",
    "    text_input = text_input.split()\n",
    "    \n",
    "    # remove punctuations\n",
    "    punct = string.punctuation\n",
    "    table = str.maketrans(\"\", \"\", punct)\n",
    "    text_input =\" \".join([word.translate(table) for word in text_input])\n",
    "    text_input = text_input.strip()\n",
    "    \n",
    "    # Return the text\n",
    "    return text_input\n",
    "\n",
    "# Append the cleaned title as well\n",
    "master_df[\"cleaned_movie_title\"] = master_df[\"movie_title\"].apply(clean_text)"
   ]
  },
  {
   "cell_type": "markdown",
   "id": "charged-digit",
   "metadata": {
    "papermill": {
     "duration": 0.014284,
     "end_time": "2021-05-08T11:48:04.532678",
     "exception": false,
     "start_time": "2021-05-08T11:48:04.518394",
     "status": "completed"
    },
    "tags": []
   },
   "source": [
    "# Modelling "
   ]
  },
  {
   "cell_type": "code",
   "execution_count": 5,
   "id": "sunrise-athletics",
   "metadata": {
    "execution": {
     "iopub.execute_input": "2021-05-08T11:48:04.579020Z",
     "iopub.status.busy": "2021-05-08T11:48:04.578477Z",
     "iopub.status.idle": "2021-05-08T11:48:04.582788Z",
     "shell.execute_reply": "2021-05-08T11:48:04.582356Z"
    },
    "papermill": {
     "duration": 0.035809,
     "end_time": "2021-05-08T11:48:04.582907",
     "exception": false,
     "start_time": "2021-05-08T11:48:04.547098",
     "status": "completed"
    },
    "tags": []
   },
   "outputs": [],
   "source": [
    "# Lets define a simple tensorflow model\n",
    "def collaborative_model(num_users, num_items):\n",
    "    # Create the input layers\n",
    "    input_user_id = tf.keras.layers.Input(shape=(1,), name=\"input_1\")\n",
    "    input_item_id = tf.keras.layers.Input(shape=(1,), name=\"input_2\")\n",
    "    \n",
    "    # Create the embedding layers \n",
    "    embedding_user_gmf = tf.keras.layers.Embedding(input_dim=num_users, output_dim=64,\n",
    "                                                   embeddings_initializer=\"he_normal\",\n",
    "                                                   embeddings_regularizer=tf.keras.regularizers.l2(1e-6))(input_user_id)\n",
    "    embedding_item_gmf = tf.keras.layers.Embedding(input_dim=num_items, output_dim=64,\n",
    "                                                   embeddings_initializer=\"he_normal\",\n",
    "                                                   embeddings_regularizer=tf.keras.regularizers.l2(1e-6))(input_item_id)\n",
    "    \n",
    "    embedding_user_mlp = tf.keras.layers.Embedding(input_dim=num_users, output_dim=64,\n",
    "                                                   embeddings_initializer=\"he_normal\",\n",
    "                                                   embeddings_regularizer=tf.keras.regularizers.l2(1e-6))(input_user_id)\n",
    "    embedding_item_mlp = tf.keras.layers.Embedding(input_dim=num_items, output_dim=64,\n",
    "                                                   embeddings_initializer=\"he_normal\",\n",
    "                                                   embeddings_regularizer=tf.keras.regularizers.l2(1e-6))(input_item_id)\n",
    "    \n",
    "    # GMF\n",
    "    flatten_user_gmf = tf.keras.layers.Flatten()(embedding_user_gmf)\n",
    "    flatten_item_gmf = tf.keras.layers.Flatten()(embedding_item_gmf)\n",
    "    gmf_embed = tf.keras.layers.Multiply()([flatten_user_gmf, flatten_item_gmf])\n",
    "    \n",
    "    # MLP\n",
    "    flatten_user_mlp = tf.keras.layers.Flatten()(embedding_user_mlp)\n",
    "    flatten_item_mlp = tf.keras.layers.Flatten()(embedding_item_mlp)\n",
    "    mlp_embed = tf.keras.layers.Concatenate()([flatten_user_mlp, flatten_item_mlp])\n",
    "    \n",
    "    # MLP Dense layers\n",
    "    mlp_x = tf.keras.layers.Dense(units=256, activation=\"relu\")(mlp_embed)\n",
    "    mlp_x = tf.keras.layers.BatchNormalization()(mlp_x)\n",
    "    mlp_x = tf.keras.layers.Dropout(0.3)(mlp_x)\n",
    "    \n",
    "    mlp_x = tf.keras.layers.Dense(units=128, activation=\"relu\")(mlp_x)\n",
    "    mlp_x = tf.keras.layers.BatchNormalization()(mlp_x)\n",
    "    mlp_x = tf.keras.layers.Dropout(0.2)(mlp_x)\n",
    "    \n",
    "    mlp_x = tf.keras.layers.Dense(units=64, activation=\"relu\")(mlp_x)\n",
    "    mlp_x = tf.keras.layers.BatchNormalization()(mlp_x)\n",
    "    mlp_x = tf.keras.layers.Dropout(0.1)(mlp_x)\n",
    "    \n",
    "    # Final merge \n",
    "    merged = tf.keras.layers.Concatenate()([gmf_embed, mlp_x])\n",
    "    \n",
    "    # Create the dense net\n",
    "    x = tf.keras.layers.Dense(units=1, kernel_initializer=\"lecun_uniform\")(merged)\n",
    "    \n",
    "    # Create the model\n",
    "    model = tf.keras.models.Model(inputs=[input_user_id, input_item_id], outputs=[x])\n",
    "    model.compile(optimizer=tf.keras.optimizers.Adam(0.001),\n",
    "                  loss=tf.keras.losses.MeanSquaredError(),\n",
    "                  metrics=tf.keras.metrics.RootMeanSquaredError())\n",
    "    \n",
    "    # Returnt the model\n",
    "    return model"
   ]
  },
  {
   "cell_type": "markdown",
   "id": "above-separation",
   "metadata": {
    "papermill": {
     "duration": 0.016831,
     "end_time": "2021-05-08T11:48:04.616475",
     "exception": false,
     "start_time": "2021-05-08T11:48:04.599644",
     "status": "completed"
    },
    "tags": []
   },
   "source": [
    "# Metrics and helper functions"
   ]
  },
  {
   "cell_type": "code",
   "execution_count": 6,
   "id": "bearing-douglas",
   "metadata": {
    "execution": {
     "iopub.execute_input": "2021-05-08T11:48:04.652453Z",
     "iopub.status.busy": "2021-05-08T11:48:04.651246Z",
     "iopub.status.idle": "2021-05-08T11:48:04.653603Z",
     "shell.execute_reply": "2021-05-08T11:48:04.653976Z"
    },
    "papermill": {
     "duration": 0.021326,
     "end_time": "2021-05-08T11:48:04.654100",
     "exception": false,
     "start_time": "2021-05-08T11:48:04.632774",
     "status": "completed"
    },
    "tags": []
   },
   "outputs": [],
   "source": [
    "def title_to_vec(string_in, spatial_dim=50):\n",
    "    split_data = string_in.split()\n",
    "    matrix = np.zeros(spatial_dim, dtype=np.float32)\n",
    "    for word in split_data:\n",
    "        if word in glove_50_embeds.keys():\n",
    "            matrix += glove_50_embeds[word]\n",
    "        else:\n",
    "            matrix += 0.0\n",
    "    \n",
    "    return matrix"
   ]
  },
  {
   "cell_type": "code",
   "execution_count": 7,
   "id": "collective-drilling",
   "metadata": {
    "execution": {
     "iopub.execute_input": "2021-05-08T11:48:04.689340Z",
     "iopub.status.busy": "2021-05-08T11:48:04.688795Z",
     "iopub.status.idle": "2021-05-08T11:48:04.692475Z",
     "shell.execute_reply": "2021-05-08T11:48:04.692035Z"
    },
    "papermill": {
     "duration": 0.024424,
     "end_time": "2021-05-08T11:48:04.692577",
     "exception": false,
     "start_time": "2021-05-08T11:48:04.668153",
     "status": "completed"
    },
    "tags": []
   },
   "outputs": [],
   "source": [
    "def precision_recall_at_k(predictions, k=10, threshold=3.5):\n",
    "    \"\"\"\n",
    "    Return precision and recall at k metrics for each user\n",
    "    \"\"\"\n",
    "    # First map the predictions to each user.\n",
    "    user_est_true = defaultdict(list)\n",
    "    for uid, true_rating, pred_rating in predictions:\n",
    "        user_est_true[uid].append((pred_rating, true_rating))\n",
    "\n",
    "    precisions = dict()\n",
    "    recalls = dict()\n",
    "    for uid, user_ratings in user_est_true.items():\n",
    "\n",
    "        # Sort user ratings by estimated value\n",
    "        user_ratings.sort(key=lambda x: x[0], reverse=True)\n",
    "\n",
    "        # Number of relevant items\n",
    "        n_rel = sum((true_rating >= threshold) for (_, true_rating) in user_ratings)\n",
    "\n",
    "        # Number of recommended items in top k\n",
    "        n_rec_k = sum((pred_rating >= threshold) for (pred_rating, _) in user_ratings[:k])\n",
    "\n",
    "        # Number of relevant and recommended items in top k\n",
    "        n_rel_and_rec_k = sum(((true_rating >= threshold) and (pred_rating >= threshold))\n",
    "                              for (pred_rating, true_rating) in user_ratings[:k])\n",
    "\n",
    "        # Precision@K: Proportion of recommended items that are relevant\n",
    "        # When n_rec_k is 0, Precision is undefined. We here set it to 0.\n",
    "\n",
    "        precisions[uid] = n_rel_and_rec_k / n_rec_k if n_rec_k != 0 else 0\n",
    "\n",
    "        # Recall@K: Proportion of relevant items that are recommended\n",
    "        # When n_rel is 0, Recall is undefined. We here set it to 0.\n",
    "\n",
    "        recalls[uid] = n_rel_and_rec_k / n_rel if n_rel != 0 else 0\n",
    "\n",
    "    return precisions, recalls"
   ]
  },
  {
   "cell_type": "code",
   "execution_count": 8,
   "id": "wrong-lottery",
   "metadata": {
    "execution": {
     "iopub.execute_input": "2021-05-08T11:48:04.728489Z",
     "iopub.status.busy": "2021-05-08T11:48:04.727849Z",
     "iopub.status.idle": "2021-05-08T11:48:04.731455Z",
     "shell.execute_reply": "2021-05-08T11:48:04.731035Z"
    },
    "papermill": {
     "duration": 0.023283,
     "end_time": "2021-05-08T11:48:04.731562",
     "exception": false,
     "start_time": "2021-05-08T11:48:04.708279",
     "status": "completed"
    },
    "tags": []
   },
   "outputs": [],
   "source": [
    "def IOU(y_true, y_pred): \n",
    "    \"\"\"\n",
    "    Calculates the IOU over the y_true and y_preds based upon the length\n",
    "    \"\"\"\n",
    "    # Handle the length change\n",
    "    len_min = min(len(y_true), len(y_pred))\n",
    "\n",
    "    # Truncate the lenght\n",
    "    y_true = y_true[:len_min]\n",
    "    y_pred = y_pred[:len_min]\n",
    "      \n",
    "    # Convert to set to do set operations\n",
    "    set_y_true = set(list(y_true))\n",
    "    set_y_pred = set(list(y_pred))\n",
    "    \n",
    "    # Set operation\n",
    "    intersection = set_y_pred.intersection(set_y_true)\n",
    "    union = set_y_pred.union(set_y_true)\n",
    "    \n",
    "    if len(union) == 0:\n",
    "        return 0, len(intersection), len(union)\n",
    "    else:\n",
    "        # return the output\n",
    "        return len(intersection) / len(union), len(intersection), len(union)"
   ]
  },
  {
   "cell_type": "markdown",
   "id": "illegal-rapid",
   "metadata": {
    "papermill": {
     "duration": 0.014072,
     "end_time": "2021-05-08T11:48:04.759696",
     "exception": false,
     "start_time": "2021-05-08T11:48:04.745624",
     "status": "completed"
    },
    "tags": []
   },
   "source": [
    "# Engine"
   ]
  },
  {
   "cell_type": "code",
   "execution_count": 9,
   "id": "driven-collector",
   "metadata": {
    "execution": {
     "iopub.execute_input": "2021-05-08T11:48:04.808730Z",
     "iopub.status.busy": "2021-05-08T11:48:04.807208Z",
     "iopub.status.idle": "2021-05-08T11:48:04.809540Z",
     "shell.execute_reply": "2021-05-08T11:48:04.809941Z"
    },
    "papermill": {
     "duration": 0.03609,
     "end_time": "2021-05-08T11:48:04.810064",
     "exception": false,
     "start_time": "2021-05-08T11:48:04.773974",
     "status": "completed"
    },
    "tags": []
   },
   "outputs": [],
   "source": [
    "class Neural_Collaborative_Recommeder_Engine(object):\n",
    "    def __init__(self, models, train_data, val_data, unique_data):\n",
    "        # Init the instance variables\n",
    "        self.models       = models\n",
    "        self.train_data   = train_data\n",
    "        self.val_data     = val_data\n",
    "        self.unique_data  = unique_data\n",
    "        self.total_rec = None\n",
    "        \n",
    "    def get_recommendation(self, user_id, top_many=20, pp=False):\n",
    "        # Calculate the movies not watched\n",
    "        movies_watched = self.train_data[self.train_data[\"user_id\"] == user_id].item_id.values\n",
    "        movies_not_watched = list(set(self.unique_data.item_id.tolist()) - set(movies_watched.tolist()))\n",
    "        \n",
    "        # True labels\n",
    "        true_lbls = self.val_data[self.val_data[\"user_id\"] == user_id][\"movie_title\"].drop_duplicates().values\n",
    "        self.total_rec = top_many # len(true_lbls)\n",
    "        \n",
    "        # If movies unwatched list is empty \n",
    "        if len(movies_not_watched) == 0:\n",
    "            return \"User has watched all movies, no new movies to recommend (get a life bro!)\"\n",
    "        \n",
    "        # Input to the model\n",
    "        X = {\n",
    "            \"input_1\" : tf.constant(np.array([(user_id - 1)] * len(movies_not_watched))),\n",
    "            \"input_2\" : tf.constant(np.array(movies_not_watched) - 1)\n",
    "        }\n",
    "        \n",
    "        # Predict from the mode the ratings\n",
    "        if len(self.models) == 1:\n",
    "            preds_labels = self.models[0].predict(X)\n",
    "        else:\n",
    "            # Perform ensemble to get the ratings\n",
    "            preds_labels = np.zeros((len(movies_not_watched), 1))\n",
    "            for model in self.models:\n",
    "                preds_labels += model.predict(X)\n",
    "            preds_labels /= len(self.models)\n",
    "        \n",
    "        # Collect the index \n",
    "        placeholder = zip(preds_labels.tolist(), movies_not_watched)\n",
    "        placeholder = sorted(placeholder, key=lambda x:x[0][0], reverse=True)\n",
    "        index = [placeholder[i][1] for i in range(0,  self.total_rec)]\n",
    "        \n",
    "        # Collect the movies at those positions \n",
    "        placeholder = self.unique_data.set_index(\"item_id\")\n",
    "        \n",
    "        # After processing\n",
    "        if pp:\n",
    "            final_rec, index = self.post_processing_glove(placeholder=placeholder,\n",
    "                                                          movie_ids=index,\n",
    "                                                          user_id=user_id)\n",
    "        else:\n",
    "            final_rec = placeholder.loc[index].movie_title.values[:self.total_rec]\n",
    "        \n",
    "        # Return the recommendations\n",
    "        return final_rec[:self.total_rec], index, true_lbls[:self.total_rec]\n",
    "    \n",
    "    def post_processing_glove(self, placeholder, movie_ids, user_id):\n",
    "        # Fetch the movie ids and the cleaned movie_names\n",
    "        # Choose the highest cosine similarity movies\n",
    "        dict_final = {}\n",
    "        \n",
    "        # Train and val data\n",
    "        recommend_data = placeholder.loc[movie_ids]\n",
    "        watched_movies = self.train_data[self.train_data[\"user_id\"] == user_id].item_id\n",
    "        \n",
    "        # Make the cosine similarity matrix \n",
    "        matrix_csim = cosine_similarity(X=placeholder.loc[watched_movies].values[:, -50:],\n",
    "                                        Y=placeholder.loc[movie_ids].values[:, -50:])\n",
    "        \n",
    "        # Chose the top few movies\n",
    "        for index, (item_id, csim_curr) in enumerate(zip(watched_movies, matrix_csim)):\n",
    "            # Get the recommendations\n",
    "            zipped_recc = zip(matrix_csim[index], recommend_data[\"movie_title\"], recommend_data[\"movie_id\"])\n",
    "            dict_final[placeholder.loc[item_id][\"movie_title\"]] = sorted(zipped_recc, key = lambda x : x[0], reverse=True)\n",
    "                             \n",
    "        # Argsort and send the top 2 from each case\n",
    "        final_list = []\n",
    "        final_ids = []\n",
    "        for i in range(6):\n",
    "            for value in dict_final.values():\n",
    "                _, movie, ids = value[i]\n",
    "                if movie not in final_list:\n",
    "                    final_list.append(movie)\n",
    "                    final_ids.append(ids)\n",
    "            if len(final_list) > self.total_rec:\n",
    "                break\n",
    "                    \n",
    "        # Return the movie\n",
    "        return final_list[:self.total_rec], final_ids[:self.total_rec]\n",
    "            \n",
    "    \n",
    "    def get_score(self, user_id, y_pred, y_pred_ids, t=3.5):\n",
    "        # For IOU\n",
    "        y_true_ids = list(self.val_data[(self.val_data[\"user_id\"] == user_id) & (self.val_data[\"rating\"] >= t)][\"item_id\"].values)\n",
    "        y_pred_ids = list(y_pred_ids)\n",
    "        \n",
    "        # Calculate the IOU\n",
    "        score_iou, _, _ = IOU(y_true=y_true_ids, y_pred=y_pred_ids)\n",
    "            \n",
    "        # Return the scores\n",
    "        return score_iou"
   ]
  },
  {
   "cell_type": "code",
   "execution_count": 10,
   "id": "antique-gauge",
   "metadata": {
    "execution": {
     "iopub.execute_input": "2021-05-08T11:48:04.845127Z",
     "iopub.status.busy": "2021-05-08T11:48:04.844288Z",
     "iopub.status.idle": "2021-05-08T11:48:04.908723Z",
     "shell.execute_reply": "2021-05-08T11:48:04.908273Z"
    },
    "papermill": {
     "duration": 0.084683,
     "end_time": "2021-05-08T11:48:04.908850",
     "exception": false,
     "start_time": "2021-05-08T11:48:04.824167",
     "status": "completed"
    },
    "tags": []
   },
   "outputs": [
    {
     "name": "stdout",
     "output_type": "stream",
     "text": [
      "NaN value count : 0\n"
     ]
    }
   ],
   "source": [
    "# Make the cosine similarity dataframe\n",
    "csim_df = master_df[[\"item_id\", \"movie_title\", \"cleaned_movie_title\", \"movie_id\"]].drop_duplicates()\n",
    "list_csim_data = []\n",
    "for movie in csim_df[\"cleaned_movie_title\"]:\n",
    "    list_csim_data.append(title_to_vec(movie))\n",
    "\n",
    "# Convert to array\n",
    "csim_data = np.asarray(list_csim_data)\n",
    "\n",
    "# Append the similarity vector to the dataframe \n",
    "csim_df = pd.concat((csim_df.reset_index(drop=True), pd.DataFrame(csim_data)), axis=1)\n",
    "print(\"NaN value count : %d\" % csim_df.isna().sum().any())"
   ]
  },
  {
   "cell_type": "markdown",
   "id": "dynamic-karma",
   "metadata": {
    "papermill": {
     "duration": 0.014703,
     "end_time": "2021-05-08T11:48:04.938631",
     "exception": false,
     "start_time": "2021-05-08T11:48:04.923928",
     "status": "completed"
    },
    "tags": []
   },
   "source": [
    "# Five fold training and validation"
   ]
  },
  {
   "cell_type": "code",
   "execution_count": 11,
   "id": "perfect-zealand",
   "metadata": {
    "execution": {
     "iopub.execute_input": "2021-05-08T11:48:04.985149Z",
     "iopub.status.busy": "2021-05-08T11:48:04.983806Z",
     "iopub.status.idle": "2021-05-08T11:48:04.986263Z",
     "shell.execute_reply": "2021-05-08T11:48:04.986745Z"
    },
    "papermill": {
     "duration": 0.033545,
     "end_time": "2021-05-08T11:48:04.986880",
     "exception": false,
     "start_time": "2021-05-08T11:48:04.953335",
     "status": "completed"
    },
    "tags": []
   },
   "outputs": [],
   "source": [
    "def model_machine(pp=False):\n",
    "    # Perform 5-fold scores\n",
    "    for fold in range(5):\n",
    "        train_df = pd.read_csv(\"../input/mvlens-split-data/fold_%d_train.csv\" % (fold + 1), low_memory=False)\n",
    "        val_df = pd.read_csv(\"../input/mvlens-split-data/fold_%d_test.csv\" % (fold + 1), low_memory=False)\n",
    "        \n",
    "        # Select the important features \n",
    "        features_to_use = [\"user_id\", \"item_id\"]\n",
    "        target_variable = \"rating\"\n",
    "\n",
    "        # Preprocess the data\n",
    "        train_label = train_df[target_variable]\n",
    "        train_data  = train_df[features_to_use] - 1\n",
    "\n",
    "        val_label = val_df[target_variable]\n",
    "        val_data  = val_df[features_to_use] - 1\n",
    "\n",
    "        # Create dataset\n",
    "        train_dataset = tf.data.Dataset.from_tensor_slices(({\"input_1\" : train_data[\"user_id\"].values,\n",
    "                                                             \"input_2\": train_data[\"item_id\"].values},\n",
    "                                                             train_label.values)).batch(256)\n",
    "        val_dataset = tf.data.Dataset.from_tensor_slices(({\"input_1\" : val_data[\"user_id\"].values,\n",
    "                                                           \"input_2\": val_data[\"item_id\"].values},\n",
    "                                                           val_label.values)).batch(256)\n",
    "        \n",
    "        test_dataset = tf.data.Dataset.from_tensor_slices(({\"input_1\" : val_data[\"user_id\"].values,\n",
    "                                                           \"input_2\": val_data[\"item_id\"].values})).batch(256)\n",
    "\n",
    "        # Train and save\n",
    "        num_users = len(np.unique(master_df[\"user_id\"]))\n",
    "        num_items = len(np.unique(master_df[\"item_id\"]))\n",
    "        model_curr = collaborative_model(num_users=num_users, num_items=num_items)\n",
    "        history = model_curr.fit(train_dataset, validation_data=val_dataset, epochs=6, verbose=False)\n",
    "        \n",
    "        # Save weights\n",
    "        model_curr.save(\"model_fold_%d.h5\" % (fold))\n",
    "        \n",
    "        # Model accuracy train and val\n",
    "        model_metrics = history.history\n",
    "        \n",
    "        # Predict the validation_data to calculate the precision_recall\n",
    "        val_preds = model_curr.predict(test_dataset)\n",
    "        \n",
    "        # Zip the predictions\n",
    "        prediction_for_map = zip(val_df[\"user_id\"].values, val_df[\"rating\"].values, val_preds.reshape(-1).tolist())\n",
    "        pre, rec = precision_recall_at_k(predictions=prediction_for_map, k=10, threshold=3.5)\n",
    "        mean_pre = sum(p for p in pre.values()) / len(pre)\n",
    "        mean_rec = sum(r for r in rec.values()) / len(rec)\n",
    "        \n",
    "        # Create the Engine to make predictions\n",
    "        all_movies_id = csim_df[\"item_id\"]\n",
    "        all_movies_names = csim_df[\"movie_title\"]\n",
    "        engine = Neural_Collaborative_Recommeder_Engine(models=[model_curr],\n",
    "                                                        train_data=train_df,\n",
    "                                                        val_data=val_df,\n",
    "                                                        unique_data=csim_df)\n",
    "        \n",
    "        # Collect the scores\n",
    "        scores_iou = []\n",
    "        for user in val_df.user_id.drop_duplicates():\n",
    "            y_preds, y_preds_ids, _ = engine.get_recommendation(user_id=user, top_many=10, pp=pp)\n",
    "            scores = engine.get_score(y_pred=y_preds, user_id=user, y_pred_ids=y_preds_ids)\n",
    "            scores_iou.append(scores)\n",
    "        \n",
    "        # Print the metrics\n",
    "        print(\"Fold-%d RMSE  || Train_RMSE : %.4f | Val_RMSE : %.4f\" % (fold + 1,\n",
    "                                                                       model_metrics[\"root_mean_squared_error\"][-1],\n",
    "                                                                       model_metrics[\"val_root_mean_squared_error\"][-1]))\n",
    "        \n",
    "        print(\"Fold-%d IOU   || Mean : %.4f | Max : %.4f\" % (fold + 1,np.mean(scores_iou),\n",
    "                                                           np.max(scores_iou),))\n",
    "        \n",
    "        print(\"Fold-%d MAP@K || Mean : %.4f\" % (fold + 1, mean_pre))\n",
    "        \n",
    "        print(\"Fold-%d MAR@K || Mean : %.4f\" % (fold + 1, mean_rec))\n",
    "        \n",
    "        print(\"\\n\")"
   ]
  },
  {
   "cell_type": "code",
   "execution_count": 12,
   "id": "auburn-florist",
   "metadata": {
    "execution": {
     "iopub.execute_input": "2021-05-08T11:48:05.029961Z",
     "iopub.status.busy": "2021-05-08T11:48:05.029458Z",
     "iopub.status.idle": "2021-05-08T11:57:32.920988Z",
     "shell.execute_reply": "2021-05-08T11:57:32.921618Z"
    },
    "papermill": {
     "duration": 567.920226,
     "end_time": "2021-05-08T11:57:32.921830",
     "exception": false,
     "start_time": "2021-05-08T11:48:05.001604",
     "status": "completed"
    },
    "tags": []
   },
   "outputs": [
    {
     "name": "stdout",
     "output_type": "stream",
     "text": [
      "Fold-1 RMSE  || Train_RMSE : 0.8458 | Val_RMSE : 0.9691\n",
      "Fold-1 IOU   || Mean : 0.0398 | Max : 0.3333\n",
      "Fold-1 MAP@K || Mean : 0.7538\n",
      "Fold-1 MAR@K || Mean : 0.4301\n",
      "\n",
      "\n",
      "Fold-2 RMSE  || Train_RMSE : 0.8568 | Val_RMSE : 0.9543\n",
      "Fold-2 IOU   || Mean : 0.0358 | Max : 0.3333\n",
      "Fold-2 MAP@K || Mean : 0.7361\n",
      "Fold-2 MAR@K || Mean : 0.4959\n",
      "\n",
      "\n",
      "Fold-3 RMSE  || Train_RMSE : 0.8568 | Val_RMSE : 0.9498\n",
      "Fold-3 IOU   || Mean : 0.0319 | Max : 0.3333\n",
      "Fold-3 MAP@K || Mean : 0.6997\n",
      "Fold-3 MAR@K || Mean : 0.5420\n",
      "\n",
      "\n",
      "Fold-4 RMSE  || Train_RMSE : 0.8589 | Val_RMSE : 0.9443\n",
      "Fold-4 IOU   || Mean : 0.0294 | Max : 0.3333\n",
      "Fold-4 MAP@K || Mean : 0.6878\n",
      "Fold-4 MAR@K || Mean : 0.5240\n",
      "\n",
      "\n",
      "Fold-5 RMSE  || Train_RMSE : 0.8641 | Val_RMSE : 0.9431\n",
      "Fold-5 IOU   || Mean : 0.0317 | Max : 0.3333\n",
      "Fold-5 MAP@K || Mean : 0.6896\n",
      "Fold-5 MAR@K || Mean : 0.5392\n",
      "\n",
      "\n"
     ]
    }
   ],
   "source": [
    "model_machine()"
   ]
  },
  {
   "cell_type": "code",
   "execution_count": 13,
   "id": "removed-colors",
   "metadata": {
    "execution": {
     "iopub.execute_input": "2021-05-08T11:57:32.962018Z",
     "iopub.status.busy": "2021-05-08T11:57:32.961288Z",
     "iopub.status.idle": "2021-05-08T12:08:17.461187Z",
     "shell.execute_reply": "2021-05-08T12:08:17.461793Z"
    },
    "papermill": {
     "duration": 644.523006,
     "end_time": "2021-05-08T12:08:17.461999",
     "exception": false,
     "start_time": "2021-05-08T11:57:32.938993",
     "status": "completed"
    },
    "tags": []
   },
   "outputs": [
    {
     "name": "stdout",
     "output_type": "stream",
     "text": [
      "Fold-1 RMSE  || Train_RMSE : 0.8483 | Val_RMSE : 0.9678\n",
      "Fold-1 IOU   || Mean : 0.0293 | Max : 0.2500\n",
      "Fold-1 MAP@K || Mean : 0.7587\n",
      "Fold-1 MAR@K || Mean : 0.4263\n",
      "\n",
      "\n",
      "Fold-2 RMSE  || Train_RMSE : 0.8499 | Val_RMSE : 0.9543\n",
      "Fold-2 IOU   || Mean : 0.0309 | Max : 0.2500\n",
      "Fold-2 MAP@K || Mean : 0.7291\n",
      "Fold-2 MAR@K || Mean : 0.4868\n",
      "\n",
      "\n",
      "Fold-3 RMSE  || Train_RMSE : 0.8593 | Val_RMSE : 0.9439\n",
      "Fold-3 IOU   || Mean : 0.0303 | Max : 1.0000\n",
      "Fold-3 MAP@K || Mean : 0.7074\n",
      "Fold-3 MAR@K || Mean : 0.5259\n",
      "\n",
      "\n",
      "Fold-4 RMSE  || Train_RMSE : 0.8617 | Val_RMSE : 0.9460\n",
      "Fold-4 IOU   || Mean : 0.0321 | Max : 0.3333\n",
      "Fold-4 MAP@K || Mean : 0.6918\n",
      "Fold-4 MAR@K || Mean : 0.5467\n",
      "\n",
      "\n",
      "Fold-5 RMSE  || Train_RMSE : 0.8586 | Val_RMSE : 0.9469\n",
      "Fold-5 IOU   || Mean : 0.0318 | Max : 1.0000\n",
      "Fold-5 MAP@K || Mean : 0.6764\n",
      "Fold-5 MAR@K || Mean : 0.5319\n",
      "\n",
      "\n"
     ]
    }
   ],
   "source": [
    "model_machine(pp=True)"
   ]
  },
  {
   "cell_type": "markdown",
   "id": "widespread-briefing",
   "metadata": {
    "papermill": {
     "duration": 0.01816,
     "end_time": "2021-05-08T12:08:17.499321",
     "exception": false,
     "start_time": "2021-05-08T12:08:17.481161",
     "status": "completed"
    },
    "tags": []
   },
   "source": [
    "# List of movies recommended by single user"
   ]
  },
  {
   "cell_type": "code",
   "execution_count": 14,
   "id": "structural-advance",
   "metadata": {
    "execution": {
     "iopub.execute_input": "2021-05-08T12:08:17.544103Z",
     "iopub.status.busy": "2021-05-08T12:08:17.543540Z",
     "iopub.status.idle": "2021-05-08T12:08:17.547758Z",
     "shell.execute_reply": "2021-05-08T12:08:17.547326Z"
    },
    "papermill": {
     "duration": 0.030671,
     "end_time": "2021-05-08T12:08:17.547862",
     "exception": false,
     "start_time": "2021-05-08T12:08:17.517191",
     "status": "completed"
    },
    "tags": []
   },
   "outputs": [],
   "source": [
    "def compare_true_rec(model, user_id, num_folds_to_use, train_data, val_data, top_many=10):\n",
    "    print(\"User_id : %d\" % user_id)\n",
    "    # Start the folds\n",
    "    model_list = []\n",
    "    for fold in range(num_folds_to_use):\n",
    "        # Load the model weights\n",
    "        model.load_weights(\"model_fold_%d.h5\" % (fold))\n",
    "        model_list.append(model)\n",
    "        \n",
    "    # Make the recommendation engine\n",
    "    all_movies_id = csim_df[\"item_id\"]\n",
    "    all_movies_names = csim_df[\"movie_title\"]\n",
    "    \n",
    "    # Engine\n",
    "    engine = Neural_Collaborative_Recommeder_Engine(models=model_list,\n",
    "                                                    train_data=train_data,\n",
    "                                                    val_data=val_data,\n",
    "                                                    unique_data=csim_df)\n",
    "    \n",
    "    y_preds, _, true_lbls = engine.get_recommendation(user_id=user_id,\n",
    "                                                      top_many=10,\n",
    "                                                      pp=True)\n",
    "    y_preds_pp, _, _ = engine.get_recommendation(user_id=user_id,\n",
    "                                                 top_many=10,\n",
    "                                                 pp=False)\n",
    "    \n",
    "    data_frame = pd.DataFrame({\n",
    "        \"true\" : true_lbls,\n",
    "        \"recd_normal\" : y_preds,\n",
    "        \"recd_post_process\" : y_preds_pp,\n",
    "    })\n",
    "    \n",
    "    return data_frame"
   ]
  },
  {
   "cell_type": "code",
   "execution_count": 15,
   "id": "hollywood-trinidad",
   "metadata": {
    "execution": {
     "iopub.execute_input": "2021-05-08T12:08:17.589371Z",
     "iopub.status.busy": "2021-05-08T12:08:17.588613Z",
     "iopub.status.idle": "2021-05-08T12:08:19.221818Z",
     "shell.execute_reply": "2021-05-08T12:08:19.220932Z"
    },
    "papermill": {
     "duration": 1.656063,
     "end_time": "2021-05-08T12:08:19.221969",
     "exception": false,
     "start_time": "2021-05-08T12:08:17.565906",
     "status": "completed"
    },
    "tags": []
   },
   "outputs": [
    {
     "name": "stdout",
     "output_type": "stream",
     "text": [
      "User_id : 121\n"
     ]
    }
   ],
   "source": [
    "# Declerations \n",
    "num_users = len(np.unique(master_df[\"user_id\"]))\n",
    "num_items = len(np.unique(master_df[\"item_id\"]))\n",
    "model_in = collaborative_model(num_users=num_users, num_items=num_items)\n",
    "train_data = pd.read_csv(\"../input/mvlens-split-data/fold_1_train.csv\", low_memory=False)\n",
    "val_data = pd.read_csv(\"../input/mvlens-split-data/fold_1_test.csv\", low_memory=False)\n",
    "user_id = np.random.choice(val_data[\"user_id\"].tolist(), size=1)[0]\n",
    "\n",
    "# Get the dataframe\n",
    "df = compare_true_rec(model=model_in, user_id=user_id,\n",
    "                      num_folds_to_use=5,\n",
    "                      train_data=train_data,\n",
    "                      val_data=val_data)"
   ]
  },
  {
   "cell_type": "code",
   "execution_count": 16,
   "id": "infinite-beaver",
   "metadata": {
    "execution": {
     "iopub.execute_input": "2021-05-08T12:08:19.268007Z",
     "iopub.status.busy": "2021-05-08T12:08:19.267155Z",
     "iopub.status.idle": "2021-05-08T12:08:19.271687Z",
     "shell.execute_reply": "2021-05-08T12:08:19.271276Z"
    },
    "papermill": {
     "duration": 0.031214,
     "end_time": "2021-05-08T12:08:19.271797",
     "exception": false,
     "start_time": "2021-05-08T12:08:19.240583",
     "status": "completed"
    },
    "tags": []
   },
   "outputs": [
    {
     "data": {
      "text/html": [
       "<div>\n",
       "<style scoped>\n",
       "    .dataframe tbody tr th:only-of-type {\n",
       "        vertical-align: middle;\n",
       "    }\n",
       "\n",
       "    .dataframe tbody tr th {\n",
       "        vertical-align: top;\n",
       "    }\n",
       "\n",
       "    .dataframe thead th {\n",
       "        text-align: right;\n",
       "    }\n",
       "</style>\n",
       "<table border=\"1\" class=\"dataframe\">\n",
       "  <thead>\n",
       "    <tr style=\"text-align: right;\">\n",
       "      <th></th>\n",
       "      <th>true</th>\n",
       "      <th>recd_normal</th>\n",
       "      <th>recd_post_process</th>\n",
       "    </tr>\n",
       "  </thead>\n",
       "  <tbody>\n",
       "    <tr>\n",
       "      <th>0</th>\n",
       "      <td>Dead Man Walking</td>\n",
       "      <td>Big Night</td>\n",
       "      <td>Citizen Kane</td>\n",
       "    </tr>\n",
       "    <tr>\n",
       "      <th>1</th>\n",
       "      <td>Postino, Il</td>\n",
       "      <td>Remains of the Day, The</td>\n",
       "      <td>Close Shave, A</td>\n",
       "    </tr>\n",
       "    <tr>\n",
       "      <th>2</th>\n",
       "      <td>Priest</td>\n",
       "      <td>Monty Python and the Holy Grail</td>\n",
       "      <td>Lawrence of Arabia</td>\n",
       "    </tr>\n",
       "    <tr>\n",
       "      <th>3</th>\n",
       "      <td>Remains of the Day, The</td>\n",
       "      <td>Twelve Monkeys</td>\n",
       "      <td>Chinatown</td>\n",
       "    </tr>\n",
       "    <tr>\n",
       "      <th>4</th>\n",
       "      <td>Silence of the Lambs, The</td>\n",
       "      <td>Amistad</td>\n",
       "      <td>Remains of the Day, The</td>\n",
       "    </tr>\n",
       "    <tr>\n",
       "      <th>5</th>\n",
       "      <td>Rock, The</td>\n",
       "      <td>Chinatown</td>\n",
       "      <td>Twelve Monkeys</td>\n",
       "    </tr>\n",
       "    <tr>\n",
       "      <th>6</th>\n",
       "      <td>Independence Day</td>\n",
       "      <td>Close Shave, A</td>\n",
       "      <td>Rear Window</td>\n",
       "    </tr>\n",
       "    <tr>\n",
       "      <th>7</th>\n",
       "      <td>Cable Guy, The</td>\n",
       "      <td>Rear Window</td>\n",
       "      <td>Monty Python and the Holy Grail</td>\n",
       "    </tr>\n",
       "    <tr>\n",
       "      <th>8</th>\n",
       "      <td>Phenomenon</td>\n",
       "      <td>Citizen Kane</td>\n",
       "      <td>Big Night</td>\n",
       "    </tr>\n",
       "    <tr>\n",
       "      <th>9</th>\n",
       "      <td>Spitfire Grill, The</td>\n",
       "      <td>Lawrence of Arabia</td>\n",
       "      <td>Amistad</td>\n",
       "    </tr>\n",
       "  </tbody>\n",
       "</table>\n",
       "</div>"
      ],
      "text/plain": [
       "                         true                       recd_normal  \\\n",
       "0           Dead Man Walking                         Big Night    \n",
       "1                Postino, Il           Remains of the Day, The    \n",
       "2                     Priest   Monty Python and the Holy Grail    \n",
       "3    Remains of the Day, The                    Twelve Monkeys    \n",
       "4  Silence of the Lambs, The                           Amistad    \n",
       "5                  Rock, The                         Chinatown    \n",
       "6           Independence Day                    Close Shave, A    \n",
       "7             Cable Guy, The                       Rear Window    \n",
       "8                 Phenomenon                      Citizen Kane    \n",
       "9        Spitfire Grill, The                Lawrence of Arabia    \n",
       "\n",
       "                  recd_post_process  \n",
       "0                     Citizen Kane   \n",
       "1                   Close Shave, A   \n",
       "2               Lawrence of Arabia   \n",
       "3                        Chinatown   \n",
       "4          Remains of the Day, The   \n",
       "5                   Twelve Monkeys   \n",
       "6                      Rear Window   \n",
       "7  Monty Python and the Holy Grail   \n",
       "8                        Big Night   \n",
       "9                          Amistad   "
      ]
     },
     "execution_count": 16,
     "metadata": {},
     "output_type": "execute_result"
    }
   ],
   "source": [
    "df.head(10)"
   ]
  }
 ],
 "metadata": {
  "kernelspec": {
   "display_name": "Python 3",
   "language": "python",
   "name": "python3"
  },
  "language_info": {
   "codemirror_mode": {
    "name": "ipython",
    "version": 3
   },
   "file_extension": ".py",
   "mimetype": "text/x-python",
   "name": "python",
   "nbconvert_exporter": "python",
   "pygments_lexer": "ipython3",
   "version": "3.7.10"
  },
  "papermill": {
   "default_parameters": {},
   "duration": 1240.987333,
   "end_time": "2021-05-08T12:08:22.431713",
   "environment_variables": {},
   "exception": null,
   "input_path": "__notebook__.ipynb",
   "output_path": "__notebook__.ipynb",
   "parameters": {},
   "start_time": "2021-05-08T11:47:41.444380",
   "version": "2.3.3"
  },
  "widgets": {
   "application/vnd.jupyter.widget-state+json": {
    "state": {
     "0f946e6d8a754eaba7de20a3c5ff5994": {
      "model_module": "@jupyter-widgets/controls",
      "model_module_version": "1.5.0",
      "model_name": "HBoxModel",
      "state": {
       "_dom_classes": [],
       "_model_module": "@jupyter-widgets/controls",
       "_model_module_version": "1.5.0",
       "_model_name": "HBoxModel",
       "_view_count": null,
       "_view_module": "@jupyter-widgets/controls",
       "_view_module_version": "1.5.0",
       "_view_name": "HBoxView",
       "box_style": "",
       "children": [
        "IPY_MODEL_ebce19d008da46bb92723107e1a82a2b",
        "IPY_MODEL_bcc87fa7090047a8ab69fd04efd2c67e",
        "IPY_MODEL_bc14fdc9f1e94b92b2c4c9f2456d2a63"
       ],
       "layout": "IPY_MODEL_6bf5ac1895924862ab5d6a0e3bee91dd"
      }
     },
     "4669de7365ae41ba8a72d3de2425dc9b": {
      "model_module": "@jupyter-widgets/base",
      "model_module_version": "1.2.0",
      "model_name": "LayoutModel",
      "state": {
       "_model_module": "@jupyter-widgets/base",
       "_model_module_version": "1.2.0",
       "_model_name": "LayoutModel",
       "_view_count": null,
       "_view_module": "@jupyter-widgets/base",
       "_view_module_version": "1.2.0",
       "_view_name": "LayoutView",
       "align_content": null,
       "align_items": null,
       "align_self": null,
       "border": null,
       "bottom": null,
       "display": null,
       "flex": null,
       "flex_flow": null,
       "grid_area": null,
       "grid_auto_columns": null,
       "grid_auto_flow": null,
       "grid_auto_rows": null,
       "grid_column": null,
       "grid_gap": null,
       "grid_row": null,
       "grid_template_areas": null,
       "grid_template_columns": null,
       "grid_template_rows": null,
       "height": null,
       "justify_content": null,
       "justify_items": null,
       "left": null,
       "margin": null,
       "max_height": null,
       "max_width": null,
       "min_height": null,
       "min_width": null,
       "object_fit": null,
       "object_position": null,
       "order": null,
       "overflow": null,
       "overflow_x": null,
       "overflow_y": null,
       "padding": null,
       "right": null,
       "top": null,
       "visibility": null,
       "width": null
      }
     },
     "6bf5ac1895924862ab5d6a0e3bee91dd": {
      "model_module": "@jupyter-widgets/base",
      "model_module_version": "1.2.0",
      "model_name": "LayoutModel",
      "state": {
       "_model_module": "@jupyter-widgets/base",
       "_model_module_version": "1.2.0",
       "_model_name": "LayoutModel",
       "_view_count": null,
       "_view_module": "@jupyter-widgets/base",
       "_view_module_version": "1.2.0",
       "_view_name": "LayoutView",
       "align_content": null,
       "align_items": null,
       "align_self": null,
       "border": null,
       "bottom": null,
       "display": null,
       "flex": null,
       "flex_flow": null,
       "grid_area": null,
       "grid_auto_columns": null,
       "grid_auto_flow": null,
       "grid_auto_rows": null,
       "grid_column": null,
       "grid_gap": null,
       "grid_row": null,
       "grid_template_areas": null,
       "grid_template_columns": null,
       "grid_template_rows": null,
       "height": null,
       "justify_content": null,
       "justify_items": null,
       "left": null,
       "margin": null,
       "max_height": null,
       "max_width": null,
       "min_height": null,
       "min_width": null,
       "object_fit": null,
       "object_position": null,
       "order": null,
       "overflow": null,
       "overflow_x": null,
       "overflow_y": null,
       "padding": null,
       "right": null,
       "top": null,
       "visibility": null,
       "width": null
      }
     },
     "90334fbb1a06429a9d98dedfb43e6f64": {
      "model_module": "@jupyter-widgets/base",
      "model_module_version": "1.2.0",
      "model_name": "LayoutModel",
      "state": {
       "_model_module": "@jupyter-widgets/base",
       "_model_module_version": "1.2.0",
       "_model_name": "LayoutModel",
       "_view_count": null,
       "_view_module": "@jupyter-widgets/base",
       "_view_module_version": "1.2.0",
       "_view_name": "LayoutView",
       "align_content": null,
       "align_items": null,
       "align_self": null,
       "border": null,
       "bottom": null,
       "display": null,
       "flex": null,
       "flex_flow": null,
       "grid_area": null,
       "grid_auto_columns": null,
       "grid_auto_flow": null,
       "grid_auto_rows": null,
       "grid_column": null,
       "grid_gap": null,
       "grid_row": null,
       "grid_template_areas": null,
       "grid_template_columns": null,
       "grid_template_rows": null,
       "height": null,
       "justify_content": null,
       "justify_items": null,
       "left": null,
       "margin": null,
       "max_height": null,
       "max_width": null,
       "min_height": null,
       "min_width": null,
       "object_fit": null,
       "object_position": null,
       "order": null,
       "overflow": null,
       "overflow_x": null,
       "overflow_y": null,
       "padding": null,
       "right": null,
       "top": null,
       "visibility": null,
       "width": null
      }
     },
     "96b6298acdcb4b34be14c2cfffe993dc": {
      "model_module": "@jupyter-widgets/controls",
      "model_module_version": "1.5.0",
      "model_name": "DescriptionStyleModel",
      "state": {
       "_model_module": "@jupyter-widgets/controls",
       "_model_module_version": "1.5.0",
       "_model_name": "DescriptionStyleModel",
       "_view_count": null,
       "_view_module": "@jupyter-widgets/base",
       "_view_module_version": "1.2.0",
       "_view_name": "StyleView",
       "description_width": ""
      }
     },
     "9a07afcbc5d849da8736e86676f7b25b": {
      "model_module": "@jupyter-widgets/controls",
      "model_module_version": "1.5.0",
      "model_name": "DescriptionStyleModel",
      "state": {
       "_model_module": "@jupyter-widgets/controls",
       "_model_module_version": "1.5.0",
       "_model_name": "DescriptionStyleModel",
       "_view_count": null,
       "_view_module": "@jupyter-widgets/base",
       "_view_module_version": "1.2.0",
       "_view_name": "StyleView",
       "description_width": ""
      }
     },
     "b2f45eb6d6104b5e8905ec1faefb01b7": {
      "model_module": "@jupyter-widgets/controls",
      "model_module_version": "1.5.0",
      "model_name": "ProgressStyleModel",
      "state": {
       "_model_module": "@jupyter-widgets/controls",
       "_model_module_version": "1.5.0",
       "_model_name": "ProgressStyleModel",
       "_view_count": null,
       "_view_module": "@jupyter-widgets/base",
       "_view_module_version": "1.2.0",
       "_view_name": "StyleView",
       "bar_color": null,
       "description_width": ""
      }
     },
     "bc14fdc9f1e94b92b2c4c9f2456d2a63": {
      "model_module": "@jupyter-widgets/controls",
      "model_module_version": "1.5.0",
      "model_name": "HTMLModel",
      "state": {
       "_dom_classes": [],
       "_model_module": "@jupyter-widgets/controls",
       "_model_module_version": "1.5.0",
       "_model_name": "HTMLModel",
       "_view_count": null,
       "_view_module": "@jupyter-widgets/controls",
       "_view_module_version": "1.5.0",
       "_view_name": "HTMLView",
       "description": "",
       "description_tooltip": null,
       "layout": "IPY_MODEL_90334fbb1a06429a9d98dedfb43e6f64",
       "placeholder": "​",
       "style": "IPY_MODEL_9a07afcbc5d849da8736e86676f7b25b",
       "value": " 400000/? [00:09&lt;00:00, 18989.16it/s]"
      }
     },
     "bcc87fa7090047a8ab69fd04efd2c67e": {
      "model_module": "@jupyter-widgets/controls",
      "model_module_version": "1.5.0",
      "model_name": "FloatProgressModel",
      "state": {
       "_dom_classes": [],
       "_model_module": "@jupyter-widgets/controls",
       "_model_module_version": "1.5.0",
       "_model_name": "FloatProgressModel",
       "_view_count": null,
       "_view_module": "@jupyter-widgets/controls",
       "_view_module_version": "1.5.0",
       "_view_name": "ProgressView",
       "bar_style": "success",
       "description": "",
       "description_tooltip": null,
       "layout": "IPY_MODEL_decb82e2d05845eaa4edfb30ded3cb98",
       "max": 1.0,
       "min": 0.0,
       "orientation": "horizontal",
       "style": "IPY_MODEL_b2f45eb6d6104b5e8905ec1faefb01b7",
       "value": 1.0
      }
     },
     "decb82e2d05845eaa4edfb30ded3cb98": {
      "model_module": "@jupyter-widgets/base",
      "model_module_version": "1.2.0",
      "model_name": "LayoutModel",
      "state": {
       "_model_module": "@jupyter-widgets/base",
       "_model_module_version": "1.2.0",
       "_model_name": "LayoutModel",
       "_view_count": null,
       "_view_module": "@jupyter-widgets/base",
       "_view_module_version": "1.2.0",
       "_view_name": "LayoutView",
       "align_content": null,
       "align_items": null,
       "align_self": null,
       "border": null,
       "bottom": null,
       "display": null,
       "flex": null,
       "flex_flow": null,
       "grid_area": null,
       "grid_auto_columns": null,
       "grid_auto_flow": null,
       "grid_auto_rows": null,
       "grid_column": null,
       "grid_gap": null,
       "grid_row": null,
       "grid_template_areas": null,
       "grid_template_columns": null,
       "grid_template_rows": null,
       "height": null,
       "justify_content": null,
       "justify_items": null,
       "left": null,
       "margin": null,
       "max_height": null,
       "max_width": null,
       "min_height": null,
       "min_width": null,
       "object_fit": null,
       "object_position": null,
       "order": null,
       "overflow": null,
       "overflow_x": null,
       "overflow_y": null,
       "padding": null,
       "right": null,
       "top": null,
       "visibility": null,
       "width": "20px"
      }
     },
     "ebce19d008da46bb92723107e1a82a2b": {
      "model_module": "@jupyter-widgets/controls",
      "model_module_version": "1.5.0",
      "model_name": "HTMLModel",
      "state": {
       "_dom_classes": [],
       "_model_module": "@jupyter-widgets/controls",
       "_model_module_version": "1.5.0",
       "_model_name": "HTMLModel",
       "_view_count": null,
       "_view_module": "@jupyter-widgets/controls",
       "_view_module_version": "1.5.0",
       "_view_name": "HTMLView",
       "description": "",
       "description_tooltip": null,
       "layout": "IPY_MODEL_4669de7365ae41ba8a72d3de2425dc9b",
       "placeholder": "​",
       "style": "IPY_MODEL_96b6298acdcb4b34be14c2cfffe993dc",
       "value": ""
      }
     }
    },
    "version_major": 2,
    "version_minor": 0
   }
  }
 },
 "nbformat": 4,
 "nbformat_minor": 5
}
