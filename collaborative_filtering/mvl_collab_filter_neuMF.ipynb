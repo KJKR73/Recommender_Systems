{
 "cells": [
  {
   "cell_type": "code",
   "execution_count": 1,
   "id": "domestic-beijing",
   "metadata": {
    "_cell_guid": "b1076dfc-b9ad-4769-8c92-a6c4dae69d19",
    "_uuid": "8f2839f25d086af736a60e9eeb907d3b93b6e0e5",
    "execution": {
     "iopub.execute_input": "2021-05-07T14:55:56.328484Z",
     "iopub.status.busy": "2021-05-07T14:55:56.327456Z",
     "iopub.status.idle": "2021-05-07T14:56:04.036828Z",
     "shell.execute_reply": "2021-05-07T14:56:04.035667Z"
    },
    "papermill": {
     "duration": 7.742825,
     "end_time": "2021-05-07T14:56:04.036999",
     "exception": false,
     "start_time": "2021-05-07T14:55:56.294174",
     "status": "completed"
    },
    "tags": []
   },
   "outputs": [],
   "source": [
    "import gc\n",
    "import string\n",
    "import numpy as np\n",
    "import pandas as pd\n",
    "from collections import defaultdict\n",
    "\n",
    "from sklearn.feature_extraction.text import TfidfVectorizer\n",
    "from sklearn.model_selection import StratifiedKFold\n",
    "from sklearn.metrics.pairwise import cosine_similarity, linear_kernel\n",
    "from sklearn.metrics import jaccard_score\n",
    "import matplotlib.pyplot as plt\n",
    "import seaborn as sns \n",
    "\n",
    "from tqdm.notebook import tqdm\n",
    "import tensorflow as tf\n",
    "import keras"
   ]
  },
  {
   "cell_type": "markdown",
   "id": "persistent-inspiration",
   "metadata": {
    "papermill": {
     "duration": 0.016344,
     "end_time": "2021-05-07T14:56:04.071728",
     "exception": false,
     "start_time": "2021-05-07T14:56:04.055384",
     "status": "completed"
    },
    "tags": []
   },
   "source": [
    "# Data Loading and Preprocessing"
   ]
  },
  {
   "cell_type": "code",
   "execution_count": 2,
   "id": "atlantic-banks",
   "metadata": {
    "execution": {
     "iopub.execute_input": "2021-05-07T14:56:04.112867Z",
     "iopub.status.busy": "2021-05-07T14:56:04.112090Z",
     "iopub.status.idle": "2021-05-07T14:56:04.689073Z",
     "shell.execute_reply": "2021-05-07T14:56:04.689659Z"
    },
    "papermill": {
     "duration": 0.601702,
     "end_time": "2021-05-07T14:56:04.689871",
     "exception": false,
     "start_time": "2021-05-07T14:56:04.088169",
     "status": "completed"
    },
    "tags": []
   },
   "outputs": [
    {
     "data": {
      "text/html": [
       "<div>\n",
       "<style scoped>\n",
       "    .dataframe tbody tr th:only-of-type {\n",
       "        vertical-align: middle;\n",
       "    }\n",
       "\n",
       "    .dataframe tbody tr th {\n",
       "        vertical-align: top;\n",
       "    }\n",
       "\n",
       "    .dataframe thead th {\n",
       "        text-align: right;\n",
       "    }\n",
       "</style>\n",
       "<table border=\"1\" class=\"dataframe\">\n",
       "  <thead>\n",
       "    <tr style=\"text-align: right;\">\n",
       "      <th></th>\n",
       "      <th>user_id</th>\n",
       "      <th>item_id</th>\n",
       "      <th>rating</th>\n",
       "      <th>timestamp</th>\n",
       "      <th>age</th>\n",
       "      <th>gender</th>\n",
       "      <th>occupation</th>\n",
       "      <th>zip_code</th>\n",
       "      <th>movie_id</th>\n",
       "      <th>movie_title</th>\n",
       "      <th>...</th>\n",
       "      <th>fantasy</th>\n",
       "      <th>file_noir</th>\n",
       "      <th>horror</th>\n",
       "      <th>musical</th>\n",
       "      <th>mystery</th>\n",
       "      <th>romance</th>\n",
       "      <th>sci_fi</th>\n",
       "      <th>thriller</th>\n",
       "      <th>war</th>\n",
       "      <th>western</th>\n",
       "    </tr>\n",
       "  </thead>\n",
       "  <tbody>\n",
       "    <tr>\n",
       "      <th>0</th>\n",
       "      <td>196</td>\n",
       "      <td>242</td>\n",
       "      <td>3</td>\n",
       "      <td>881250949</td>\n",
       "      <td>49</td>\n",
       "      <td>M</td>\n",
       "      <td>writer</td>\n",
       "      <td>55105</td>\n",
       "      <td>242</td>\n",
       "      <td>Kolya</td>\n",
       "      <td>...</td>\n",
       "      <td>0</td>\n",
       "      <td>0</td>\n",
       "      <td>0</td>\n",
       "      <td>0</td>\n",
       "      <td>0</td>\n",
       "      <td>0</td>\n",
       "      <td>0</td>\n",
       "      <td>0</td>\n",
       "      <td>0</td>\n",
       "      <td>0</td>\n",
       "    </tr>\n",
       "    <tr>\n",
       "      <th>1</th>\n",
       "      <td>186</td>\n",
       "      <td>302</td>\n",
       "      <td>3</td>\n",
       "      <td>891717742</td>\n",
       "      <td>39</td>\n",
       "      <td>F</td>\n",
       "      <td>executive</td>\n",
       "      <td>00000</td>\n",
       "      <td>302</td>\n",
       "      <td>L.A. Confidential</td>\n",
       "      <td>...</td>\n",
       "      <td>0</td>\n",
       "      <td>1</td>\n",
       "      <td>0</td>\n",
       "      <td>0</td>\n",
       "      <td>1</td>\n",
       "      <td>0</td>\n",
       "      <td>0</td>\n",
       "      <td>1</td>\n",
       "      <td>0</td>\n",
       "      <td>0</td>\n",
       "    </tr>\n",
       "  </tbody>\n",
       "</table>\n",
       "<p>2 rows × 32 columns</p>\n",
       "</div>"
      ],
      "text/plain": [
       "   user_id  item_id  rating  timestamp  age gender occupation zip_code  \\\n",
       "0      196      242       3  881250949   49      M     writer    55105   \n",
       "1      186      302       3  891717742   39      F  executive    00000   \n",
       "\n",
       "   movie_id         movie_title  ... fantasy file_noir horror  musical  \\\n",
       "0       242              Kolya   ...       0         0      0        0   \n",
       "1       302  L.A. Confidential   ...       0         1      0        0   \n",
       "\n",
       "   mystery  romance  sci_fi  thriller  war  western  \n",
       "0        0        0       0         0    0        0  \n",
       "1        1        0       0         1    0        0  \n",
       "\n",
       "[2 rows x 32 columns]"
      ]
     },
     "execution_count": 2,
     "metadata": {},
     "output_type": "execute_result"
    }
   ],
   "source": [
    "master_df = pd.read_csv(\"../input/movie-lens-preprocessed-data/movie_lens_master.csv\", low_memory=False)\n",
    "master_df.head(2)"
   ]
  },
  {
   "cell_type": "code",
   "execution_count": 3,
   "id": "committed-liability",
   "metadata": {
    "execution": {
     "iopub.execute_input": "2021-05-07T14:56:04.732288Z",
     "iopub.status.busy": "2021-05-07T14:56:04.731458Z",
     "iopub.status.idle": "2021-05-07T14:56:15.945116Z",
     "shell.execute_reply": "2021-05-07T14:56:15.945733Z"
    },
    "papermill": {
     "duration": 11.237509,
     "end_time": "2021-05-07T14:56:15.945925",
     "exception": false,
     "start_time": "2021-05-07T14:56:04.708416",
     "status": "completed"
    },
    "tags": []
   },
   "outputs": [
    {
     "data": {
      "application/vnd.jupyter.widget-view+json": {
       "model_id": "1508d8ccd8fd42ea806050756bc7e89e",
       "version_major": 2,
       "version_minor": 0
      },
      "text/plain": [
       "0it [00:00, ?it/s]"
      ]
     },
     "metadata": {},
     "output_type": "display_data"
    }
   ],
   "source": [
    "def get_embeddings():\n",
    "    # Fetch the glove embedding dictionary\n",
    "    embedding_dict = {}\n",
    "    with open(\"../input/glove6b/glove.6B.50d.txt\", \"r\", encoding=\"utf8\") as f:\n",
    "        for line in tqdm(f):\n",
    "            placeholder = line.split()\n",
    "            word = placeholder[0]\n",
    "            values = np.array(placeholder[1:], dtype=np.float32)\n",
    "            embedding_dict[word] = values\n",
    "    \n",
    "    # Return the embedding dict\n",
    "    return embedding_dict\n",
    "\n",
    "glove_50_embeds = get_embeddings()"
   ]
  },
  {
   "cell_type": "code",
   "execution_count": 4,
   "id": "finished-interaction",
   "metadata": {
    "execution": {
     "iopub.execute_input": "2021-05-07T14:56:15.996120Z",
     "iopub.status.busy": "2021-05-07T14:56:15.995112Z",
     "iopub.status.idle": "2021-05-07T14:56:16.501378Z",
     "shell.execute_reply": "2021-05-07T14:56:16.500771Z"
    },
    "papermill": {
     "duration": 0.536775,
     "end_time": "2021-05-07T14:56:16.501555",
     "exception": false,
     "start_time": "2021-05-07T14:56:15.964780",
     "status": "completed"
    },
    "tags": []
   },
   "outputs": [],
   "source": [
    "def clean_text(text_input):\n",
    "    \"\"\"\n",
    "    Text Cleaning Function\n",
    "    \"\"\"\n",
    "    # strip and lowercase\n",
    "    text_input = text_input.strip()\n",
    "    text_input = text_input.lower()\n",
    "    \n",
    "    # split the text\n",
    "    text_input = text_input.split()\n",
    "    \n",
    "    # remove punctuations\n",
    "    punct = string.punctuation\n",
    "    table = str.maketrans(\"\", \"\", punct)\n",
    "    text_input =\" \".join([word.translate(table) for word in text_input])\n",
    "    text_input = text_input.strip()\n",
    "    \n",
    "    # Return the text\n",
    "    return text_input\n",
    "\n",
    "# Append the cleaned title as well\n",
    "master_df[\"cleaned_movie_title\"] = master_df[\"movie_title\"].apply(clean_text)"
   ]
  },
  {
   "cell_type": "markdown",
   "id": "beginning-geneva",
   "metadata": {
    "papermill": {
     "duration": 0.017853,
     "end_time": "2021-05-07T14:56:16.537921",
     "exception": false,
     "start_time": "2021-05-07T14:56:16.520068",
     "status": "completed"
    },
    "tags": []
   },
   "source": [
    "# Modelling "
   ]
  },
  {
   "cell_type": "code",
   "execution_count": 5,
   "id": "banned-matthew",
   "metadata": {
    "execution": {
     "iopub.execute_input": "2021-05-07T14:56:16.594197Z",
     "iopub.status.busy": "2021-05-07T14:56:16.592002Z",
     "iopub.status.idle": "2021-05-07T14:56:16.595023Z",
     "shell.execute_reply": "2021-05-07T14:56:16.595560Z"
    },
    "papermill": {
     "duration": 0.039215,
     "end_time": "2021-05-07T14:56:16.595710",
     "exception": false,
     "start_time": "2021-05-07T14:56:16.556495",
     "status": "completed"
    },
    "tags": []
   },
   "outputs": [],
   "source": [
    "# Lets define a simple tensorflow model\n",
    "def collaborative_model(num_users, num_items):\n",
    "    # Create the input layers\n",
    "    input_user_id = tf.keras.layers.Input(shape=(1,), name=\"input_1\")\n",
    "    input_item_id = tf.keras.layers.Input(shape=(1,), name=\"input_2\")\n",
    "    \n",
    "    # Create the embedding layers \n",
    "    embedding_user_gmf = tf.keras.layers.Embedding(input_dim=num_users, output_dim=64,\n",
    "                                                   embeddings_initializer=\"he_normal\",\n",
    "                                                   embeddings_regularizer=tf.keras.regularizers.l2(1e-6))(input_user_id)\n",
    "    embedding_item_gmf = tf.keras.layers.Embedding(input_dim=num_items, output_dim=64,\n",
    "                                                   embeddings_initializer=\"he_normal\",\n",
    "                                                   embeddings_regularizer=tf.keras.regularizers.l2(1e-6))(input_item_id)\n",
    "    \n",
    "    embedding_user_mlp = tf.keras.layers.Embedding(input_dim=num_users, output_dim=64,\n",
    "                                                   embeddings_initializer=\"he_normal\",\n",
    "                                                   embeddings_regularizer=tf.keras.regularizers.l2(1e-6))(input_user_id)\n",
    "    embedding_item_mlp = tf.keras.layers.Embedding(input_dim=num_items, output_dim=64,\n",
    "                                                   embeddings_initializer=\"he_normal\",\n",
    "                                                   embeddings_regularizer=tf.keras.regularizers.l2(1e-6))(input_item_id)\n",
    "    \n",
    "    # GMF\n",
    "    flatten_user_gmf = tf.keras.layers.Flatten()(embedding_user_gmf)\n",
    "    flatten_item_gmf = tf.keras.layers.Flatten()(embedding_item_gmf)\n",
    "    gmf_embed = tf.keras.layers.Multiply()([flatten_user_gmf, flatten_item_gmf])\n",
    "    \n",
    "    # MLP\n",
    "    flatten_user_mlp = tf.keras.layers.Flatten()(embedding_user_mlp)\n",
    "    flatten_item_mlp = tf.keras.layers.Flatten()(embedding_item_mlp)\n",
    "    mlp_embed = tf.keras.layers.Concatenate()([flatten_user_mlp, flatten_item_mlp])\n",
    "    \n",
    "    # MLP Dense layers\n",
    "    mlp_x = tf.keras.layers.Dense(units=256, activation=\"relu\")(mlp_embed)\n",
    "    mlp_x = tf.keras.layers.BatchNormalization()(mlp_x)\n",
    "    mlp_x = tf.keras.layers.Dropout(0.3)(mlp_x)\n",
    "    \n",
    "    mlp_x = tf.keras.layers.Dense(units=128, activation=\"relu\")(mlp_x)\n",
    "    mlp_x = tf.keras.layers.BatchNormalization()(mlp_x)\n",
    "    mlp_x = tf.keras.layers.Dropout(0.2)(mlp_x)\n",
    "    \n",
    "    mlp_x = tf.keras.layers.Dense(units=64, activation=\"relu\")(mlp_x)\n",
    "    mlp_x = tf.keras.layers.BatchNormalization()(mlp_x)\n",
    "    mlp_x = tf.keras.layers.Dropout(0.1)(mlp_x)\n",
    "    \n",
    "    # Final merge \n",
    "    merged = tf.keras.layers.Concatenate()([gmf_embed, mlp_x])\n",
    "    \n",
    "    # Create the dense net\n",
    "    x = tf.keras.layers.Dense(units=1, kernel_initializer=\"lecun_uniform\")(merged)\n",
    "    \n",
    "    # Create the model\n",
    "    model = tf.keras.models.Model(inputs=[input_user_id, input_item_id], outputs=[x])\n",
    "    model.compile(optimizer=tf.keras.optimizers.Adam(0.001),\n",
    "                  loss=tf.keras.losses.MeanSquaredError(),\n",
    "                  metrics=tf.keras.metrics.RootMeanSquaredError())\n",
    "    \n",
    "    # Returnt the model\n",
    "    return model"
   ]
  },
  {
   "cell_type": "markdown",
   "id": "primary-battery",
   "metadata": {
    "papermill": {
     "duration": 0.01899,
     "end_time": "2021-05-07T14:56:16.633140",
     "exception": false,
     "start_time": "2021-05-07T14:56:16.614150",
     "status": "completed"
    },
    "tags": []
   },
   "source": [
    "# Metrics and helper functions"
   ]
  },
  {
   "cell_type": "code",
   "execution_count": 6,
   "id": "major-damage",
   "metadata": {
    "execution": {
     "iopub.execute_input": "2021-05-07T14:56:16.676303Z",
     "iopub.status.busy": "2021-05-07T14:56:16.675518Z",
     "iopub.status.idle": "2021-05-07T14:56:16.679754Z",
     "shell.execute_reply": "2021-05-07T14:56:16.679156Z"
    },
    "papermill": {
     "duration": 0.027905,
     "end_time": "2021-05-07T14:56:16.679891",
     "exception": false,
     "start_time": "2021-05-07T14:56:16.651986",
     "status": "completed"
    },
    "tags": []
   },
   "outputs": [],
   "source": [
    "def jaccard(str1, str2): \n",
    "    a = set(str1.lower().split()) \n",
    "    b = set(str2.lower().split())\n",
    "    c = a.intersection(b)\n",
    "    return float(len(c)) / (len(a) + len(b) - len(c))"
   ]
  },
  {
   "cell_type": "code",
   "execution_count": 7,
   "id": "careful-occurrence",
   "metadata": {
    "execution": {
     "iopub.execute_input": "2021-05-07T14:56:16.722841Z",
     "iopub.status.busy": "2021-05-07T14:56:16.722049Z",
     "iopub.status.idle": "2021-05-07T14:56:16.726190Z",
     "shell.execute_reply": "2021-05-07T14:56:16.726703Z"
    },
    "papermill": {
     "duration": 0.028256,
     "end_time": "2021-05-07T14:56:16.726864",
     "exception": false,
     "start_time": "2021-05-07T14:56:16.698608",
     "status": "completed"
    },
    "tags": []
   },
   "outputs": [],
   "source": [
    "def title_to_vec(string_in, spatial_dim=50):\n",
    "    split_data = string_in.split()\n",
    "    matrix = np.zeros(spatial_dim, dtype=np.float32)\n",
    "    for word in split_data:\n",
    "        if word in glove_50_embeds.keys():\n",
    "            matrix += glove_50_embeds[word]\n",
    "        else:\n",
    "            matrix += 0.0\n",
    "    \n",
    "    return matrix"
   ]
  },
  {
   "cell_type": "code",
   "execution_count": 8,
   "id": "established-madrid",
   "metadata": {
    "execution": {
     "iopub.execute_input": "2021-05-07T14:56:16.775160Z",
     "iopub.status.busy": "2021-05-07T14:56:16.773145Z",
     "iopub.status.idle": "2021-05-07T14:56:16.776275Z",
     "shell.execute_reply": "2021-05-07T14:56:16.776901Z"
    },
    "papermill": {
     "duration": 0.031714,
     "end_time": "2021-05-07T14:56:16.777077",
     "exception": false,
     "start_time": "2021-05-07T14:56:16.745363",
     "status": "completed"
    },
    "tags": []
   },
   "outputs": [],
   "source": [
    "def precision_recall_at_k(predictions, k=10, threshold=3.5):\n",
    "    \"\"\"\n",
    "    Return precision and recall at k metrics for each user\n",
    "    \"\"\"\n",
    "    # First map the predictions to each user.\n",
    "    user_est_true = defaultdict(list)\n",
    "    for uid, true_rating, pred_rating in predictions:\n",
    "        user_est_true[uid].append((pred_rating, true_rating))\n",
    "\n",
    "    precisions = dict()\n",
    "    recalls = dict()\n",
    "    for uid, user_ratings in user_est_true.items():\n",
    "\n",
    "        # Sort user ratings by estimated value\n",
    "        user_ratings.sort(key=lambda x: x[0], reverse=True)\n",
    "\n",
    "        # Number of relevant items\n",
    "        n_rel = sum((true_rating >= threshold) for (_, true_rating) in user_ratings)\n",
    "\n",
    "        # Number of recommended items in top k\n",
    "        n_rec_k = sum((pred_rating >= threshold) for (pred_rating, _) in user_ratings[:k])\n",
    "\n",
    "        # Number of relevant and recommended items in top k\n",
    "        n_rel_and_rec_k = sum(((true_rating >= threshold) and (pred_rating >= threshold))\n",
    "                              for (pred_rating, true_rating) in user_ratings[:k])\n",
    "\n",
    "        # Precision@K: Proportion of recommended items that are relevant\n",
    "        # When n_rec_k is 0, Precision is undefined. We here set it to 0.\n",
    "\n",
    "        precisions[uid] = n_rel_and_rec_k / n_rec_k if n_rec_k != 0 else 0\n",
    "\n",
    "        # Recall@K: Proportion of relevant items that are recommended\n",
    "        # When n_rel is 0, Recall is undefined. We here set it to 0.\n",
    "\n",
    "        recalls[uid] = n_rel_and_rec_k / n_rel if n_rel != 0 else 0\n",
    "\n",
    "    return precisions, recalls"
   ]
  },
  {
   "cell_type": "code",
   "execution_count": 9,
   "id": "composed-bride",
   "metadata": {
    "execution": {
     "iopub.execute_input": "2021-05-07T14:56:16.823181Z",
     "iopub.status.busy": "2021-05-07T14:56:16.820883Z",
     "iopub.status.idle": "2021-05-07T14:56:16.824168Z",
     "shell.execute_reply": "2021-05-07T14:56:16.824776Z"
    },
    "papermill": {
     "duration": 0.029484,
     "end_time": "2021-05-07T14:56:16.824953",
     "exception": false,
     "start_time": "2021-05-07T14:56:16.795469",
     "status": "completed"
    },
    "tags": []
   },
   "outputs": [],
   "source": [
    "def IOU(y_true, y_pred): \n",
    "    \"\"\"\n",
    "    Calculates the IOU over the y_true and y_preds based upon the length\n",
    "    \"\"\"\n",
    "    # Handle the length change\n",
    "    if len(y_pred) > len(y_true):\n",
    "        y_pred = y_pred[:len(y_true)]\n",
    "      \n",
    "    # Convert to set to do set operations\n",
    "    set_y_true = set(list(y_true))\n",
    "    set_y_pred = set(list(y_pred))\n",
    "    \n",
    "    # Set operation\n",
    "    intersection = set_y_pred.intersection(set_y_true)\n",
    "    union = set_y_pred.union(set_y_true)\n",
    "    \n",
    "    # return the output\n",
    "    return len(intersection) / len(union), len(intersection), len(union)"
   ]
  },
  {
   "cell_type": "markdown",
   "id": "adequate-advice",
   "metadata": {
    "papermill": {
     "duration": 0.019066,
     "end_time": "2021-05-07T14:56:16.863891",
     "exception": false,
     "start_time": "2021-05-07T14:56:16.844825",
     "status": "completed"
    },
    "tags": []
   },
   "source": [
    "# Engine"
   ]
  },
  {
   "cell_type": "code",
   "execution_count": 10,
   "id": "quantitative-particular",
   "metadata": {
    "execution": {
     "iopub.execute_input": "2021-05-07T14:56:16.922700Z",
     "iopub.status.busy": "2021-05-07T14:56:16.921345Z",
     "iopub.status.idle": "2021-05-07T14:56:16.928423Z",
     "shell.execute_reply": "2021-05-07T14:56:16.929005Z"
    },
    "papermill": {
     "duration": 0.046118,
     "end_time": "2021-05-07T14:56:16.929149",
     "exception": false,
     "start_time": "2021-05-07T14:56:16.883031",
     "status": "completed"
    },
    "tags": []
   },
   "outputs": [],
   "source": [
    "class Neural_Collaborative_Recommeder_Engine(object):\n",
    "    def __init__(self, models, train_data, val_data, unique_data):\n",
    "        # Init the instance variables\n",
    "        self.models       = models\n",
    "        self.train_data   = train_data\n",
    "        self.val_data     = val_data\n",
    "        self.unique_data  = unique_data\n",
    "        self.total_rec = None\n",
    "        \n",
    "    def get_recommendation(self, user_id, top_many=20, pp=False):\n",
    "        # Calculate the movies not watched\n",
    "        movies_watched = self.train_data[self.train_data[\"user_id\"] == user_id].item_id.values\n",
    "        movies_not_watched = list(set(self.unique_data.item_id.tolist()) - set(movies_watched.tolist()))\n",
    "        \n",
    "        # True labels\n",
    "        true_lbls = self.val_data[self.val_data[\"user_id\"] == user_id][\"movie_title\"].drop_duplicates().values\n",
    "        self.total_rec = top_many # len(true_lbls)\n",
    "        \n",
    "        # If movies unwatched list is empty \n",
    "        if len(movies_not_watched) == 0:\n",
    "            return \"User has watched all movies, no new movies to recommend (get a life bro!)\"\n",
    "        \n",
    "        # Input to the model\n",
    "        X = {\n",
    "            \"input_1\" : tf.constant(np.array([(user_id - 1)] * len(movies_not_watched))),\n",
    "            \"input_2\" : tf.constant(np.array(movies_not_watched) - 1)\n",
    "        }\n",
    "        \n",
    "        # Predict from the mode the ratings\n",
    "        if len(self.models) == 1:\n",
    "            preds_labels = self.models[0].predict(X)\n",
    "        else:\n",
    "            # Perform ensemble to get the ratings\n",
    "            preds_labels = np.zeros((len(movies_not_watched), 1))\n",
    "            for model in self.models:\n",
    "                preds_labels += model.predict(X)\n",
    "            preds_labels /= len(self.models)\n",
    "        \n",
    "        # Collect the index \n",
    "        placeholder = zip(preds_labels.tolist(), movies_not_watched)\n",
    "        placeholder = sorted(placeholder, key=lambda x:x[0][0], reverse=True)\n",
    "        index = [placeholder[i][1] for i in range(0,  self.total_rec)]\n",
    "        \n",
    "        # Collect the movies at those positions \n",
    "        placeholder = self.unique_data.set_index(\"item_id\")\n",
    "        \n",
    "        # After processing\n",
    "        if pp:\n",
    "            final_rec, index = self.post_processing_glove(placeholder=placeholder,\n",
    "                                                          movie_ids=index,\n",
    "                                                          user_id=user_id)\n",
    "        else:\n",
    "            final_rec = placeholder.loc[index].movie_title.values[:self.total_rec]\n",
    "        \n",
    "        # Return the recommendations\n",
    "        return final_rec[:self.total_rec], index, true_lbls[:self.total_rec]\n",
    "    \n",
    "    def post_processing_glove(self, placeholder, movie_ids, user_id):\n",
    "        # Fetch the movie ids and the cleaned movie_names\n",
    "        # Choose the highest cosine similarity movies\n",
    "        dict_final = {}\n",
    "        \n",
    "        # Train and val data\n",
    "        recommend_data = placeholder.loc[movie_ids]\n",
    "        watched_movies = self.train_data[self.train_data[\"user_id\"] == user_id].item_id\n",
    "        \n",
    "        # Make the cosine similarity matrix \n",
    "        matrix_csim = cosine_similarity(X=placeholder.loc[watched_movies].values[:, -50:],\n",
    "                                        Y=placeholder.loc[movie_ids].values[:, -50:])\n",
    "        \n",
    "        # Chose the top few movies\n",
    "        for index, (item_id, csim_curr) in enumerate(zip(watched_movies, matrix_csim)):\n",
    "            # Get the recommendations\n",
    "            zipped_recc = zip(matrix_csim[index], recommend_data[\"movie_title\"], recommend_data[\"movie_id\"])\n",
    "            dict_final[placeholder.loc[item_id][\"movie_title\"]] = sorted(zipped_recc, key = lambda x : x[0], reverse=True)\n",
    "                             \n",
    "        # Argsort and send the top 2 from each case\n",
    "        final_list = []\n",
    "        final_ids = []\n",
    "        for i in range(6):\n",
    "            for value in dict_final.values():\n",
    "                _, movie, ids = value[i]\n",
    "                if movie not in final_list:\n",
    "                    final_list.append(movie)\n",
    "                    final_ids.append(ids)\n",
    "            if len(final_list) > self.total_rec:\n",
    "                break\n",
    "                    \n",
    "        # Return the movie\n",
    "        return final_list[:self.total_rec], final_ids[:self.total_rec]\n",
    "            \n",
    "    \n",
    "    def get_score(self, user_id, y_pred, y_pred_ids):\n",
    "        # For MAP @ K\n",
    "        y_true = self.val_data[self.val_data[\"user_id\"] == user_id][\"movie_title\"].values\n",
    "        y_pred = np.array(y_pred)\n",
    "        \n",
    "        # For IOU\n",
    "        y_true_ids = list(self.val_data[self.val_data[\"user_id\"] == user_id][\"item_id\"].values)\n",
    "        y_pred_ids = list(y_pred_ids)\n",
    "        \n",
    "        # Calculate the IOU\n",
    "        score_iou, _, _ = IOU(y_true=y_true_ids, y_pred=y_pred_ids)\n",
    "            \n",
    "        # Return the scores\n",
    "        return score_iou, y_true.tolist()"
   ]
  },
  {
   "cell_type": "code",
   "execution_count": 11,
   "id": "superior-poverty",
   "metadata": {
    "execution": {
     "iopub.execute_input": "2021-05-07T14:56:16.975075Z",
     "iopub.status.busy": "2021-05-07T14:56:16.973959Z",
     "iopub.status.idle": "2021-05-07T14:56:17.046949Z",
     "shell.execute_reply": "2021-05-07T14:56:17.048106Z"
    },
    "papermill": {
     "duration": 0.100521,
     "end_time": "2021-05-07T14:56:17.048457",
     "exception": false,
     "start_time": "2021-05-07T14:56:16.947936",
     "status": "completed"
    },
    "tags": []
   },
   "outputs": [
    {
     "name": "stdout",
     "output_type": "stream",
     "text": [
      "NaN value count : 0\n"
     ]
    }
   ],
   "source": [
    "# Make the cosine similarity dataframe\n",
    "csim_df = master_df[[\"item_id\", \"movie_title\", \"cleaned_movie_title\", \"movie_id\"]].drop_duplicates()\n",
    "list_csim_data = []\n",
    "for movie in csim_df[\"cleaned_movie_title\"]:\n",
    "    list_csim_data.append(title_to_vec(movie))\n",
    "\n",
    "# Convert to array\n",
    "csim_data = np.asarray(list_csim_data)\n",
    "\n",
    "# Append the similarity vector to the dataframe \n",
    "csim_df = pd.concat((csim_df.reset_index(drop=True), pd.DataFrame(csim_data)), axis=1)\n",
    "print(\"NaN value count : %d\" % csim_df.isna().sum().any())"
   ]
  },
  {
   "cell_type": "markdown",
   "id": "disturbed-footage",
   "metadata": {
    "papermill": {
     "duration": 0.019341,
     "end_time": "2021-05-07T14:56:17.089458",
     "exception": false,
     "start_time": "2021-05-07T14:56:17.070117",
     "status": "completed"
    },
    "tags": []
   },
   "source": [
    "# Five fold training and validation"
   ]
  },
  {
   "cell_type": "code",
   "execution_count": 12,
   "id": "fabulous-worst",
   "metadata": {
    "execution": {
     "iopub.execute_input": "2021-05-07T14:56:17.150754Z",
     "iopub.status.busy": "2021-05-07T14:56:17.147984Z",
     "iopub.status.idle": "2021-05-07T14:56:17.156824Z",
     "shell.execute_reply": "2021-05-07T14:56:17.158306Z"
    },
    "papermill": {
     "duration": 0.049185,
     "end_time": "2021-05-07T14:56:17.158469",
     "exception": false,
     "start_time": "2021-05-07T14:56:17.109284",
     "status": "completed"
    },
    "tags": []
   },
   "outputs": [],
   "source": [
    "def model_machine(pp=False):\n",
    "    # Perform 5-fold scores\n",
    "    for fold in range(5):\n",
    "        train_df = pd.read_csv(\"../input/mvlens-split-data/fold_%d_train.csv\" % (fold + 1), low_memory=False)\n",
    "        val_df = pd.read_csv(\"../input/mvlens-split-data/fold_%d_test.csv\" % (fold + 1), low_memory=False)\n",
    "        \n",
    "        # Select the important features \n",
    "        features_to_use = [\"user_id\", \"item_id\"]\n",
    "        target_variable = \"rating\"\n",
    "\n",
    "        # Preprocess the data\n",
    "        train_label = train_df[target_variable] - 1\n",
    "        train_data  = train_df[features_to_use] - 1\n",
    "\n",
    "        val_label = val_df[target_variable] - 1\n",
    "        val_data  = val_df[features_to_use] - 1\n",
    "\n",
    "        # Create dataset\n",
    "        train_dataset = tf.data.Dataset.from_tensor_slices(({\"input_1\" : train_data[\"user_id\"].values,\n",
    "                                                             \"input_2\": train_data[\"item_id\"].values},\n",
    "                                                             train_label.values)).batch(256)\n",
    "        val_dataset = tf.data.Dataset.from_tensor_slices(({\"input_1\" : val_data[\"user_id\"].values,\n",
    "                                                           \"input_2\": val_data[\"item_id\"].values},\n",
    "                                                           val_label.values)).batch(256)\n",
    "        \n",
    "        test_dataset = tf.data.Dataset.from_tensor_slices(({\"input_1\" : val_data[\"user_id\"].values,\n",
    "                                                           \"input_2\": val_data[\"item_id\"].values})).batch(256)\n",
    "\n",
    "        # Train and save\n",
    "        num_users = len(np.unique(master_df[\"user_id\"]))\n",
    "        num_items = len(np.unique(master_df[\"item_id\"]))\n",
    "        model_curr = collaborative_model(num_users=num_users, num_items=num_items)\n",
    "        history = model_curr.fit(train_dataset, validation_data=val_dataset, epochs=6, verbose=False)\n",
    "        \n",
    "        # Save weights\n",
    "        model_curr.save(\"model_fold_%d.h5\" % (fold))\n",
    "        \n",
    "        # Model accuracy train and val\n",
    "        model_metrics = history.history\n",
    "        \n",
    "        # Predict the validation_data to calculate the precision_recall\n",
    "        val_preds = model_curr.predict(test_dataset)\n",
    "        \n",
    "        # Zip the predictions\n",
    "        prediction_for_map = zip(val_df[\"user_id\"].values, val_df[\"rating\"].values, val_preds.reshape(-1).tolist())\n",
    "        pre, rec = precision_recall_at_k(predictions=prediction_for_map, k=10, threshold=3.5)\n",
    "        mean_pre = sum(p for p in pre.values()) / len(pre)\n",
    "        mean_rec = sum(r for r in rec.values()) / len(rec)\n",
    "        \n",
    "        # Create the Engine to make predictions\n",
    "        all_movies_id = csim_df[\"item_id\"]\n",
    "        all_movies_names = csim_df[\"movie_title\"]\n",
    "        engine = Neural_Collaborative_Recommeder_Engine(models=[model_curr],\n",
    "                                                        train_data=train_df,\n",
    "                                                        val_data=val_df,\n",
    "                                                        unique_data=csim_df)\n",
    "        \n",
    "        # Collect the scores\n",
    "        scores_iou = []\n",
    "        for user in val_df.user_id.drop_duplicates():\n",
    "            y_preds, y_preds_ids, _ = engine.get_recommendation(user_id=user, top_many=10, pp=pp)\n",
    "            scores = engine.get_score(y_pred=y_preds, user_id=user, y_pred_ids=y_preds_ids)\n",
    "            scores_iou.append(scores[0])\n",
    "        \n",
    "        # Print the metrics\n",
    "        print(\"Fold-%d RMSE  || Train_RMSE : %.4f | Val_RMSE : %.4f\" % (fold + 1,\n",
    "                                                                       model_metrics[\"root_mean_squared_error\"][-1],\n",
    "                                                                       model_metrics[\"val_root_mean_squared_error\"][-1]))\n",
    "        \n",
    "        print(\"Fold-%d IOU   || Mean : %.4f | Max : %.4f\" % (fold + 1,np.mean(scores_iou),\n",
    "                                                           np.max(scores_iou),))\n",
    "        \n",
    "        print(\"Fold-%d MAP@K || Mean : %.4f\" % (fold + 1, np.mean(mean_pre)))\n",
    "        \n",
    "        print(\"Fold-%d MAR@K || Mean : %.4f\" % (fold + 1, np.mean(mean_rec)))\n",
    "        \n",
    "        print(\"\\n\")"
   ]
  },
  {
   "cell_type": "code",
   "execution_count": 13,
   "id": "ruled-veteran",
   "metadata": {
    "execution": {
     "iopub.execute_input": "2021-05-07T14:56:17.209391Z",
     "iopub.status.busy": "2021-05-07T14:56:17.208703Z",
     "iopub.status.idle": "2021-05-07T15:09:24.732747Z",
     "shell.execute_reply": "2021-05-07T15:09:24.733612Z"
    },
    "papermill": {
     "duration": 787.554721,
     "end_time": "2021-05-07T15:09:24.733883",
     "exception": false,
     "start_time": "2021-05-07T14:56:17.179162",
     "status": "completed"
    },
    "tags": []
   },
   "outputs": [
    {
     "name": "stdout",
     "output_type": "stream",
     "text": [
      "Fold-1 RMSE  || Train_RMSE : 0.7999 | Val_RMSE : 0.9658\n",
      "Fold-1 IOU   || Mean : 0.0282 | Max : 0.1667\n",
      "Fold-1 MAP@K || Mean : 0.4940\n",
      "Fold-1 MAR@K || Mean : 0.1008\n",
      "\n",
      "\n",
      "Fold-2 RMSE  || Train_RMSE : 0.8128 | Val_RMSE : 0.9570\n",
      "Fold-2 IOU   || Mean : 0.0257 | Max : 0.2500\n",
      "Fold-2 MAP@K || Mean : 0.4532\n",
      "Fold-2 MAR@K || Mean : 0.0985\n",
      "\n",
      "\n",
      "Fold-3 RMSE  || Train_RMSE : 0.8016 | Val_RMSE : 0.9485\n",
      "Fold-3 IOU   || Mean : 0.0265 | Max : 0.3333\n",
      "Fold-3 MAP@K || Mean : 0.3719\n",
      "Fold-3 MAR@K || Mean : 0.1006\n",
      "\n",
      "\n",
      "Fold-4 RMSE  || Train_RMSE : 0.8106 | Val_RMSE : 0.9443\n",
      "Fold-4 IOU   || Mean : 0.0255 | Max : 0.2000\n",
      "Fold-4 MAP@K || Mean : 0.3263\n",
      "Fold-4 MAR@K || Mean : 0.0850\n",
      "\n",
      "\n",
      "Fold-5 RMSE  || Train_RMSE : 0.8073 | Val_RMSE : 0.9391\n",
      "Fold-5 IOU   || Mean : 0.0263 | Max : 0.3333\n",
      "Fold-5 MAP@K || Mean : 0.3569\n",
      "Fold-5 MAR@K || Mean : 0.0908\n",
      "\n",
      "\n"
     ]
    }
   ],
   "source": [
    "model_machine()"
   ]
  },
  {
   "cell_type": "code",
   "execution_count": 14,
   "id": "thermal-polyester",
   "metadata": {
    "execution": {
     "iopub.execute_input": "2021-05-07T15:09:24.801953Z",
     "iopub.status.busy": "2021-05-07T15:09:24.801010Z",
     "iopub.status.idle": "2021-05-07T15:24:30.196658Z",
     "shell.execute_reply": "2021-05-07T15:24:30.197235Z"
    },
    "papermill": {
     "duration": 905.440701,
     "end_time": "2021-05-07T15:24:30.197438",
     "exception": false,
     "start_time": "2021-05-07T15:09:24.756737",
     "status": "completed"
    },
    "tags": []
   },
   "outputs": [
    {
     "name": "stdout",
     "output_type": "stream",
     "text": [
      "Fold-1 RMSE  || Train_RMSE : 0.8052 | Val_RMSE : 0.9613\n",
      "Fold-1 IOU   || Mean : 0.0259 | Max : 0.1667\n",
      "Fold-1 MAP@K || Mean : 0.4993\n",
      "Fold-1 MAR@K || Mean : 0.0933\n",
      "\n",
      "\n",
      "Fold-2 RMSE  || Train_RMSE : 0.8111 | Val_RMSE : 0.9604\n",
      "Fold-2 IOU   || Mean : 0.0269 | Max : 0.2000\n",
      "Fold-2 MAP@K || Mean : 0.4798\n",
      "Fold-2 MAR@K || Mean : 0.1036\n",
      "\n",
      "\n",
      "Fold-3 RMSE  || Train_RMSE : 0.8035 | Val_RMSE : 0.9531\n",
      "Fold-3 IOU   || Mean : 0.0275 | Max : 0.3333\n",
      "Fold-3 MAP@K || Mean : 0.4270\n",
      "Fold-3 MAR@K || Mean : 0.1275\n",
      "\n",
      "\n",
      "Fold-4 RMSE  || Train_RMSE : 0.8151 | Val_RMSE : 0.9422\n",
      "Fold-4 IOU   || Mean : 0.0255 | Max : 0.2000\n",
      "Fold-4 MAP@K || Mean : 0.3577\n",
      "Fold-4 MAR@K || Mean : 0.0872\n",
      "\n",
      "\n",
      "Fold-5 RMSE  || Train_RMSE : 0.8057 | Val_RMSE : 0.9405\n",
      "Fold-5 IOU   || Mean : 0.0270 | Max : 1.0000\n",
      "Fold-5 MAP@K || Mean : 0.3355\n",
      "Fold-5 MAR@K || Mean : 0.0774\n",
      "\n",
      "\n"
     ]
    }
   ],
   "source": [
    "model_machine(pp=True)"
   ]
  },
  {
   "cell_type": "markdown",
   "id": "chemical-corps",
   "metadata": {
    "papermill": {
     "duration": 0.024537,
     "end_time": "2021-05-07T15:24:30.246304",
     "exception": false,
     "start_time": "2021-05-07T15:24:30.221767",
     "status": "completed"
    },
    "tags": []
   },
   "source": [
    "# List of movies recommended by single user"
   ]
  },
  {
   "cell_type": "code",
   "execution_count": 15,
   "id": "greater-father",
   "metadata": {
    "execution": {
     "iopub.execute_input": "2021-05-07T15:24:30.304325Z",
     "iopub.status.busy": "2021-05-07T15:24:30.303378Z",
     "iopub.status.idle": "2021-05-07T15:24:30.307627Z",
     "shell.execute_reply": "2021-05-07T15:24:30.308139Z"
    },
    "papermill": {
     "duration": 0.037755,
     "end_time": "2021-05-07T15:24:30.308351",
     "exception": false,
     "start_time": "2021-05-07T15:24:30.270596",
     "status": "completed"
    },
    "tags": []
   },
   "outputs": [],
   "source": [
    "def compare_true_rec(model, user_id, num_folds_to_use, train_data, val_data, top_many=10):\n",
    "    print(\"User_id : %d\" % user_id)\n",
    "    # Start the folds\n",
    "    model_list = []\n",
    "    for fold in range(num_folds_to_use):\n",
    "        # Load the model weights\n",
    "        model.load_weights(\"model_fold_%d.h5\" % (fold))\n",
    "        model_list.append(model)\n",
    "        \n",
    "    # Make the recommendation engine\n",
    "    all_movies_id = csim_df[\"item_id\"]\n",
    "    all_movies_names = csim_df[\"movie_title\"]\n",
    "    \n",
    "    # Engine\n",
    "    engine = Neural_Collaborative_Recommeder_Engine(models=model_list,\n",
    "                                                    train_data=train_data,\n",
    "                                                    val_data=val_data,\n",
    "                                                    unique_data=csim_df)\n",
    "    \n",
    "    y_preds, _, true_lbls = engine.get_recommendation(user_id=user_id,\n",
    "                                                      top_many=10,\n",
    "                                                      pp=True)\n",
    "    y_preds_pp, _, _ = engine.get_recommendation(user_id=user_id,\n",
    "                                                 top_many=10,\n",
    "                                                 pp=False)\n",
    "    \n",
    "    data_frame = pd.DataFrame({\n",
    "        \"true\" : true_lbls,\n",
    "        \"recd_normal\" : y_preds,\n",
    "        \"recd_post_process\" : y_preds_pp,\n",
    "    })\n",
    "    \n",
    "    return data_frame"
   ]
  },
  {
   "cell_type": "code",
   "execution_count": 16,
   "id": "arranged-transportation",
   "metadata": {
    "execution": {
     "iopub.execute_input": "2021-05-07T15:24:30.365012Z",
     "iopub.status.busy": "2021-05-07T15:24:30.363954Z",
     "iopub.status.idle": "2021-05-07T15:24:32.713463Z",
     "shell.execute_reply": "2021-05-07T15:24:32.712444Z"
    },
    "papermill": {
     "duration": 2.381041,
     "end_time": "2021-05-07T15:24:32.713639",
     "exception": false,
     "start_time": "2021-05-07T15:24:30.332598",
     "status": "completed"
    },
    "tags": []
   },
   "outputs": [
    {
     "name": "stdout",
     "output_type": "stream",
     "text": [
      "User_id : 15\n"
     ]
    }
   ],
   "source": [
    "# Declerations \n",
    "num_users = len(np.unique(master_df[\"user_id\"]))\n",
    "num_items = len(np.unique(master_df[\"item_id\"]))\n",
    "model_in = collaborative_model(num_users=num_users, num_items=num_items)\n",
    "train_data = pd.read_csv(\"../input/mvlens-split-data/fold_1_train.csv\", low_memory=False)\n",
    "val_data = pd.read_csv(\"../input/mvlens-split-data/fold_1_test.csv\", low_memory=False)\n",
    "user_id = np.random.choice(val_data[\"user_id\"].tolist(), size=1)[0]\n",
    "\n",
    "# Get the dataframe\n",
    "df = compare_true_rec(model=model_in, user_id=user_id,\n",
    "                      num_folds_to_use=5,\n",
    "                      train_data=train_data,\n",
    "                      val_data=val_data)"
   ]
  },
  {
   "cell_type": "code",
   "execution_count": 17,
   "id": "ignored-necklace",
   "metadata": {
    "execution": {
     "iopub.execute_input": "2021-05-07T15:24:32.796051Z",
     "iopub.status.busy": "2021-05-07T15:24:32.794838Z",
     "iopub.status.idle": "2021-05-07T15:24:32.806915Z",
     "shell.execute_reply": "2021-05-07T15:24:32.807859Z"
    },
    "papermill": {
     "duration": 0.068637,
     "end_time": "2021-05-07T15:24:32.808356",
     "exception": false,
     "start_time": "2021-05-07T15:24:32.739719",
     "status": "completed"
    },
    "tags": []
   },
   "outputs": [
    {
     "data": {
      "text/html": [
       "<div>\n",
       "<style scoped>\n",
       "    .dataframe tbody tr th:only-of-type {\n",
       "        vertical-align: middle;\n",
       "    }\n",
       "\n",
       "    .dataframe tbody tr th {\n",
       "        vertical-align: top;\n",
       "    }\n",
       "\n",
       "    .dataframe thead th {\n",
       "        text-align: right;\n",
       "    }\n",
       "</style>\n",
       "<table border=\"1\" class=\"dataframe\">\n",
       "  <thead>\n",
       "    <tr style=\"text-align: right;\">\n",
       "      <th></th>\n",
       "      <th>true</th>\n",
       "      <th>recd_normal</th>\n",
       "      <th>recd_post_process</th>\n",
       "    </tr>\n",
       "  </thead>\n",
       "  <tbody>\n",
       "    <tr>\n",
       "      <th>0</th>\n",
       "      <td>Toy Story</td>\n",
       "      <td>Beautiful Thing</td>\n",
       "      <td>Schindler's List</td>\n",
       "    </tr>\n",
       "    <tr>\n",
       "      <th>1</th>\n",
       "      <td>Twelve Monkeys</td>\n",
       "      <td>Shawshank Redemption, The</td>\n",
       "      <td>It's a Wonderful Life</td>\n",
       "    </tr>\n",
       "    <tr>\n",
       "      <th>2</th>\n",
       "      <td>Dead Man Walking</td>\n",
       "      <td>Silence of the Lambs, The</td>\n",
       "      <td>Silence of the Lambs, The</td>\n",
       "    </tr>\n",
       "    <tr>\n",
       "      <th>3</th>\n",
       "      <td>White Balloon, The</td>\n",
       "      <td>Sound of Music, The</td>\n",
       "      <td>To Kill a Mockingbird</td>\n",
       "    </tr>\n",
       "    <tr>\n",
       "      <th>4</th>\n",
       "      <td>Angels and Insects</td>\n",
       "      <td>Apollo 13</td>\n",
       "      <td>Shawshank Redemption, The</td>\n",
       "    </tr>\n",
       "    <tr>\n",
       "      <th>5</th>\n",
       "      <td>Birdcage, The</td>\n",
       "      <td>To Kill a Mockingbird</td>\n",
       "      <td>Beautiful Thing</td>\n",
       "    </tr>\n",
       "    <tr>\n",
       "      <th>6</th>\n",
       "      <td>Godfather, The</td>\n",
       "      <td>Winnie the Pooh and the Blustery Day</td>\n",
       "      <td>Good Will Hunting</td>\n",
       "    </tr>\n",
       "    <tr>\n",
       "      <th>7</th>\n",
       "      <td>Big Night</td>\n",
       "      <td>Schindler's List</td>\n",
       "      <td>Sound of Music, The</td>\n",
       "    </tr>\n",
       "    <tr>\n",
       "      <th>8</th>\n",
       "      <td>Ghost and the Darkness, The</td>\n",
       "      <td>It's a Wonderful Life</td>\n",
       "      <td>Winnie the Pooh and the Blustery Day</td>\n",
       "    </tr>\n",
       "    <tr>\n",
       "      <th>9</th>\n",
       "      <td>Star Trek: First Contact</td>\n",
       "      <td>Good Will Hunting</td>\n",
       "      <td>Apollo 13</td>\n",
       "    </tr>\n",
       "  </tbody>\n",
       "</table>\n",
       "</div>"
      ],
      "text/plain": [
       "                           true                            recd_normal  \\\n",
       "0                    Toy Story                        Beautiful Thing    \n",
       "1               Twelve Monkeys              Shawshank Redemption, The    \n",
       "2             Dead Man Walking              Silence of the Lambs, The    \n",
       "3           White Balloon, The                    Sound of Music, The    \n",
       "4           Angels and Insects                              Apollo 13    \n",
       "5                Birdcage, The                  To Kill a Mockingbird    \n",
       "6               Godfather, The   Winnie the Pooh and the Blustery Day    \n",
       "7                    Big Night                       Schindler's List    \n",
       "8  Ghost and the Darkness, The                  It's a Wonderful Life    \n",
       "9     Star Trek: First Contact                      Good Will Hunting    \n",
       "\n",
       "                       recd_post_process  \n",
       "0                      Schindler's List   \n",
       "1                 It's a Wonderful Life   \n",
       "2             Silence of the Lambs, The   \n",
       "3                 To Kill a Mockingbird   \n",
       "4             Shawshank Redemption, The   \n",
       "5                       Beautiful Thing   \n",
       "6                     Good Will Hunting   \n",
       "7                   Sound of Music, The   \n",
       "8  Winnie the Pooh and the Blustery Day   \n",
       "9                             Apollo 13   "
      ]
     },
     "execution_count": 17,
     "metadata": {},
     "output_type": "execute_result"
    }
   ],
   "source": [
    "df.head(10)"
   ]
  }
 ],
 "metadata": {
  "kernelspec": {
   "display_name": "Python 3",
   "language": "python",
   "name": "python3"
  },
  "language_info": {
   "codemirror_mode": {
    "name": "ipython",
    "version": 3
   },
   "file_extension": ".py",
   "mimetype": "text/x-python",
   "name": "python",
   "nbconvert_exporter": "python",
   "pygments_lexer": "ipython3",
   "version": "3.7.10"
  },
  "papermill": {
   "default_parameters": {},
   "duration": 1728.59357,
   "end_time": "2021-05-07T15:24:36.546983",
   "environment_variables": {},
   "exception": null,
   "input_path": "__notebook__.ipynb",
   "output_path": "__notebook__.ipynb",
   "parameters": {},
   "start_time": "2021-05-07T14:55:47.953413",
   "version": "2.3.3"
  },
  "widgets": {
   "application/vnd.jupyter.widget-state+json": {
    "state": {
     "13f76010c4b74e069e9295cc980bef66": {
      "model_module": "@jupyter-widgets/controls",
      "model_module_version": "1.5.0",
      "model_name": "DescriptionStyleModel",
      "state": {
       "_model_module": "@jupyter-widgets/controls",
       "_model_module_version": "1.5.0",
       "_model_name": "DescriptionStyleModel",
       "_view_count": null,
       "_view_module": "@jupyter-widgets/base",
       "_view_module_version": "1.2.0",
       "_view_name": "StyleView",
       "description_width": ""
      }
     },
     "1508d8ccd8fd42ea806050756bc7e89e": {
      "model_module": "@jupyter-widgets/controls",
      "model_module_version": "1.5.0",
      "model_name": "HBoxModel",
      "state": {
       "_dom_classes": [],
       "_model_module": "@jupyter-widgets/controls",
       "_model_module_version": "1.5.0",
       "_model_name": "HBoxModel",
       "_view_count": null,
       "_view_module": "@jupyter-widgets/controls",
       "_view_module_version": "1.5.0",
       "_view_name": "HBoxView",
       "box_style": "",
       "children": [
        "IPY_MODEL_68e245eeaf6c49e8a24f685506050c40",
        "IPY_MODEL_762ba94ff1b94c4ab13814ae11b86c6c",
        "IPY_MODEL_e5a65ead6dda45b5b1aa0c2808eefaff"
       ],
       "layout": "IPY_MODEL_8e1e8d3709f3424da9c85fa0006c11c8"
      }
     },
     "161f07d8ecf84420992ef97e4880a52d": {
      "model_module": "@jupyter-widgets/controls",
      "model_module_version": "1.5.0",
      "model_name": "ProgressStyleModel",
      "state": {
       "_model_module": "@jupyter-widgets/controls",
       "_model_module_version": "1.5.0",
       "_model_name": "ProgressStyleModel",
       "_view_count": null,
       "_view_module": "@jupyter-widgets/base",
       "_view_module_version": "1.2.0",
       "_view_name": "StyleView",
       "bar_color": null,
       "description_width": ""
      }
     },
     "1b513d523ab04bbe97fd2a47590c6957": {
      "model_module": "@jupyter-widgets/base",
      "model_module_version": "1.2.0",
      "model_name": "LayoutModel",
      "state": {
       "_model_module": "@jupyter-widgets/base",
       "_model_module_version": "1.2.0",
       "_model_name": "LayoutModel",
       "_view_count": null,
       "_view_module": "@jupyter-widgets/base",
       "_view_module_version": "1.2.0",
       "_view_name": "LayoutView",
       "align_content": null,
       "align_items": null,
       "align_self": null,
       "border": null,
       "bottom": null,
       "display": null,
       "flex": null,
       "flex_flow": null,
       "grid_area": null,
       "grid_auto_columns": null,
       "grid_auto_flow": null,
       "grid_auto_rows": null,
       "grid_column": null,
       "grid_gap": null,
       "grid_row": null,
       "grid_template_areas": null,
       "grid_template_columns": null,
       "grid_template_rows": null,
       "height": null,
       "justify_content": null,
       "justify_items": null,
       "left": null,
       "margin": null,
       "max_height": null,
       "max_width": null,
       "min_height": null,
       "min_width": null,
       "object_fit": null,
       "object_position": null,
       "order": null,
       "overflow": null,
       "overflow_x": null,
       "overflow_y": null,
       "padding": null,
       "right": null,
       "top": null,
       "visibility": null,
       "width": null
      }
     },
     "68e245eeaf6c49e8a24f685506050c40": {
      "model_module": "@jupyter-widgets/controls",
      "model_module_version": "1.5.0",
      "model_name": "HTMLModel",
      "state": {
       "_dom_classes": [],
       "_model_module": "@jupyter-widgets/controls",
       "_model_module_version": "1.5.0",
       "_model_name": "HTMLModel",
       "_view_count": null,
       "_view_module": "@jupyter-widgets/controls",
       "_view_module_version": "1.5.0",
       "_view_name": "HTMLView",
       "description": "",
       "description_tooltip": null,
       "layout": "IPY_MODEL_dd39e7e922cc490ba7086caff8b87bb7",
       "placeholder": "​",
       "style": "IPY_MODEL_dfe6b94da8db437ca5a11711e2475f5c",
       "value": ""
      }
     },
     "762ba94ff1b94c4ab13814ae11b86c6c": {
      "model_module": "@jupyter-widgets/controls",
      "model_module_version": "1.5.0",
      "model_name": "FloatProgressModel",
      "state": {
       "_dom_classes": [],
       "_model_module": "@jupyter-widgets/controls",
       "_model_module_version": "1.5.0",
       "_model_name": "FloatProgressModel",
       "_view_count": null,
       "_view_module": "@jupyter-widgets/controls",
       "_view_module_version": "1.5.0",
       "_view_name": "ProgressView",
       "bar_style": "success",
       "description": "",
       "description_tooltip": null,
       "layout": "IPY_MODEL_83db8e0eb10b430c98ce3adddb2e94ab",
       "max": 1.0,
       "min": 0.0,
       "orientation": "horizontal",
       "style": "IPY_MODEL_161f07d8ecf84420992ef97e4880a52d",
       "value": 1.0
      }
     },
     "83db8e0eb10b430c98ce3adddb2e94ab": {
      "model_module": "@jupyter-widgets/base",
      "model_module_version": "1.2.0",
      "model_name": "LayoutModel",
      "state": {
       "_model_module": "@jupyter-widgets/base",
       "_model_module_version": "1.2.0",
       "_model_name": "LayoutModel",
       "_view_count": null,
       "_view_module": "@jupyter-widgets/base",
       "_view_module_version": "1.2.0",
       "_view_name": "LayoutView",
       "align_content": null,
       "align_items": null,
       "align_self": null,
       "border": null,
       "bottom": null,
       "display": null,
       "flex": null,
       "flex_flow": null,
       "grid_area": null,
       "grid_auto_columns": null,
       "grid_auto_flow": null,
       "grid_auto_rows": null,
       "grid_column": null,
       "grid_gap": null,
       "grid_row": null,
       "grid_template_areas": null,
       "grid_template_columns": null,
       "grid_template_rows": null,
       "height": null,
       "justify_content": null,
       "justify_items": null,
       "left": null,
       "margin": null,
       "max_height": null,
       "max_width": null,
       "min_height": null,
       "min_width": null,
       "object_fit": null,
       "object_position": null,
       "order": null,
       "overflow": null,
       "overflow_x": null,
       "overflow_y": null,
       "padding": null,
       "right": null,
       "top": null,
       "visibility": null,
       "width": "20px"
      }
     },
     "8e1e8d3709f3424da9c85fa0006c11c8": {
      "model_module": "@jupyter-widgets/base",
      "model_module_version": "1.2.0",
      "model_name": "LayoutModel",
      "state": {
       "_model_module": "@jupyter-widgets/base",
       "_model_module_version": "1.2.0",
       "_model_name": "LayoutModel",
       "_view_count": null,
       "_view_module": "@jupyter-widgets/base",
       "_view_module_version": "1.2.0",
       "_view_name": "LayoutView",
       "align_content": null,
       "align_items": null,
       "align_self": null,
       "border": null,
       "bottom": null,
       "display": null,
       "flex": null,
       "flex_flow": null,
       "grid_area": null,
       "grid_auto_columns": null,
       "grid_auto_flow": null,
       "grid_auto_rows": null,
       "grid_column": null,
       "grid_gap": null,
       "grid_row": null,
       "grid_template_areas": null,
       "grid_template_columns": null,
       "grid_template_rows": null,
       "height": null,
       "justify_content": null,
       "justify_items": null,
       "left": null,
       "margin": null,
       "max_height": null,
       "max_width": null,
       "min_height": null,
       "min_width": null,
       "object_fit": null,
       "object_position": null,
       "order": null,
       "overflow": null,
       "overflow_x": null,
       "overflow_y": null,
       "padding": null,
       "right": null,
       "top": null,
       "visibility": null,
       "width": null
      }
     },
     "dd39e7e922cc490ba7086caff8b87bb7": {
      "model_module": "@jupyter-widgets/base",
      "model_module_version": "1.2.0",
      "model_name": "LayoutModel",
      "state": {
       "_model_module": "@jupyter-widgets/base",
       "_model_module_version": "1.2.0",
       "_model_name": "LayoutModel",
       "_view_count": null,
       "_view_module": "@jupyter-widgets/base",
       "_view_module_version": "1.2.0",
       "_view_name": "LayoutView",
       "align_content": null,
       "align_items": null,
       "align_self": null,
       "border": null,
       "bottom": null,
       "display": null,
       "flex": null,
       "flex_flow": null,
       "grid_area": null,
       "grid_auto_columns": null,
       "grid_auto_flow": null,
       "grid_auto_rows": null,
       "grid_column": null,
       "grid_gap": null,
       "grid_row": null,
       "grid_template_areas": null,
       "grid_template_columns": null,
       "grid_template_rows": null,
       "height": null,
       "justify_content": null,
       "justify_items": null,
       "left": null,
       "margin": null,
       "max_height": null,
       "max_width": null,
       "min_height": null,
       "min_width": null,
       "object_fit": null,
       "object_position": null,
       "order": null,
       "overflow": null,
       "overflow_x": null,
       "overflow_y": null,
       "padding": null,
       "right": null,
       "top": null,
       "visibility": null,
       "width": null
      }
     },
     "dfe6b94da8db437ca5a11711e2475f5c": {
      "model_module": "@jupyter-widgets/controls",
      "model_module_version": "1.5.0",
      "model_name": "DescriptionStyleModel",
      "state": {
       "_model_module": "@jupyter-widgets/controls",
       "_model_module_version": "1.5.0",
       "_model_name": "DescriptionStyleModel",
       "_view_count": null,
       "_view_module": "@jupyter-widgets/base",
       "_view_module_version": "1.2.0",
       "_view_name": "StyleView",
       "description_width": ""
      }
     },
     "e5a65ead6dda45b5b1aa0c2808eefaff": {
      "model_module": "@jupyter-widgets/controls",
      "model_module_version": "1.5.0",
      "model_name": "HTMLModel",
      "state": {
       "_dom_classes": [],
       "_model_module": "@jupyter-widgets/controls",
       "_model_module_version": "1.5.0",
       "_model_name": "HTMLModel",
       "_view_count": null,
       "_view_module": "@jupyter-widgets/controls",
       "_view_module_version": "1.5.0",
       "_view_name": "HTMLView",
       "description": "",
       "description_tooltip": null,
       "layout": "IPY_MODEL_1b513d523ab04bbe97fd2a47590c6957",
       "placeholder": "​",
       "style": "IPY_MODEL_13f76010c4b74e069e9295cc980bef66",
       "value": " 400000/? [00:11&lt;00:00, 37738.23it/s]"
      }
     }
    },
    "version_major": 2,
    "version_minor": 0
   }
  }
 },
 "nbformat": 4,
 "nbformat_minor": 5
}
